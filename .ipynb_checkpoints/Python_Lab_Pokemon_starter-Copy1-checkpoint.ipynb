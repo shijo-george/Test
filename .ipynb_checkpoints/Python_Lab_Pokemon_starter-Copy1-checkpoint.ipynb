{
 "cells": [
  {
   "cell_type": "markdown",
   "metadata": {},
   "source": [
    "<img src=\"http://imgur.com/1ZcRyrc.png\" style=\"float: left; margin: 15px; height: 80px\">\n",
    "\n",
    "# Lab 1.01: Data Structures and Python with Pokemon\n",
    "\n",
    "### Building \"Pokemon Stay\"\n",
    "\n",
    "---\n",
    "You are an analyst at a \"scrappy\" online gaming company that specializes in remakes of last year's fads.\n",
    "\n",
    "Your boss, who runs the product development team, is convinced that Pokemon Go's fatal flaw was that you had to actually move around outside. She has design mock-ups for a new game called Pokemon Stay: in this version players still need to move, but just from website to website. Pokemon gyms are now popular online destinations, and catching Pokemon in the \"wild\" simply requires browsing the internet for hours in the comfort of your home.\n",
    "\n",
    "She wants you to program a prototype version of the game."
   ]
  },
  {
   "cell_type": "markdown",
   "metadata": {},
   "source": [
    "## Before we start\n",
    "\n",
    "---\n",
    "We're going to take a quick minute to explore nesting behavior of dictionaries and lists. Consider the following data:"
   ]
  },
  {
   "cell_type": "code",
   "execution_count": 1,
   "metadata": {},
   "outputs": [],
   "source": [
    "dsi_lecture_times = {\n",
    "    'WC': {\n",
    "        'LA': {\n",
    "            'M': [9, 2],\n",
    "            'T': [9, 2],\n",
    "            'W': [9, 2],\n",
    "            'Th': [9],\n",
    "            'F': [9]},\n",
    "        'SEA': {\n",
    "            'M': [9, 2],\n",
    "            'T': [9, 2],\n",
    "            'W': [9, 2],\n",
    "            'Th': [9],\n",
    "            'F': [9]},\n",
    "        'DEN': {\n",
    "            'M': [10, 3],\n",
    "            'T': [10, 3],\n",
    "            'W': [10, 3],\n",
    "            'Th': [10],\n",
    "            'F': [10]},\n",
    "        'SF': {\n",
    "            'M': [9, 2],\n",
    "            'T': [9, 2],\n",
    "            'W': [9, 2],\n",
    "            'Th': [9],\n",
    "            'F': [9]}},\n",
    "    'EC': {\n",
    "        'BOS': {\n",
    "            'M': [10, 3],\n",
    "            'T': [10, 3],\n",
    "            'W': [10, 3],\n",
    "            'Th': [10],\n",
    "            'F': [10]},\n",
    "        'NYC': {\n",
    "            'M': [10, 3],\n",
    "            'T': [10, 3],\n",
    "            'W': [10, 3],\n",
    "            'Th': [10],\n",
    "            'F': [10]},\n",
    "        'DC': {\n",
    "            'M': [10, 3],\n",
    "            'T': [10, 3],\n",
    "            'W': [10, 3],\n",
    "            'Th': [10],\n",
    "            'F': [10]},\n",
    "        'ATX': {\n",
    "            'M': [9, 2],\n",
    "            'T': [9, 2],\n",
    "            'W': [9, 2],\n",
    "            'Th': [9],\n",
    "            'F': [9]},\n",
    "        'CHI': {\n",
    "            'M': [9, 2],\n",
    "            'T': [9, 2],\n",
    "            'W': [9, 2],\n",
    "            'Th': [9],\n",
    "            'F': [9]},\n",
    "        'ATL': {\n",
    "            'M': [10, 3],\n",
    "            'T': [10, 3],\n",
    "            'W': [10, 3],\n",
    "            'Th': [10],\n",
    "            'F': [10]}}\n",
    "    }"
   ]
  },
  {
   "cell_type": "markdown",
   "metadata": {},
   "source": [
    "This dictionary contains the start times for the global lectures for each of the 10 DSI-CC campuses. The top level indicates the coast. The next level contains the 2 or 3 letter city codes corresponding to the campuses. The next level contains the 5 days of the week; each day of the week contains a list of 1 or 2 integers corresponding to the start time(s) of the day's lectures.\n",
    "\n",
    "Let's set our objective as accessing the **start time of the second Wednesday lecture in Chicago**.\n",
    "\n",
    "Let's look at how the whole dict is rendered as an output in a Jupyter."
   ]
  },
  {
   "cell_type": "code",
   "execution_count": 2,
   "metadata": {},
   "outputs": [
    {
     "data": {
      "text/plain": [
       "{'WC': {'LA': {'M': [9, 2], 'T': [9, 2], 'W': [9, 2], 'Th': [9], 'F': [9]},\n",
       "  'SEA': {'M': [9, 2], 'T': [9, 2], 'W': [9, 2], 'Th': [9], 'F': [9]},\n",
       "  'DEN': {'M': [10, 3], 'T': [10, 3], 'W': [10, 3], 'Th': [10], 'F': [10]},\n",
       "  'SF': {'M': [9, 2], 'T': [9, 2], 'W': [9, 2], 'Th': [9], 'F': [9]}},\n",
       " 'EC': {'BOS': {'M': [10, 3],\n",
       "   'T': [10, 3],\n",
       "   'W': [10, 3],\n",
       "   'Th': [10],\n",
       "   'F': [10]},\n",
       "  'NYC': {'M': [10, 3], 'T': [10, 3], 'W': [10, 3], 'Th': [10], 'F': [10]},\n",
       "  'DC': {'M': [10, 3], 'T': [10, 3], 'W': [10, 3], 'Th': [10], 'F': [10]},\n",
       "  'ATX': {'M': [9, 2], 'T': [9, 2], 'W': [9, 2], 'Th': [9], 'F': [9]},\n",
       "  'CHI': {'M': [9, 2], 'T': [9, 2], 'W': [9, 2], 'Th': [9], 'F': [9]},\n",
       "  'ATL': {'M': [10, 3], 'T': [10, 3], 'W': [10, 3], 'Th': [10], 'F': [10]}}}"
      ]
     },
     "execution_count": 2,
     "metadata": {},
     "output_type": "execute_result"
    }
   ],
   "source": [
    "dsi_lecture_times"
   ]
  },
  {
   "cell_type": "markdown",
   "metadata": {},
   "source": [
    "We can see that curly braces (i.e., `{}`) and individual spaces are used to separate layers. Because this can be hard to see, oftentimes we'll use the `keys` method on a dictionary to see what the current level of a dictionary contains. If we approach a dict one level at a time, it's easy to drill down to our objective."
   ]
  },
  {
   "cell_type": "code",
   "execution_count": 3,
   "metadata": {},
   "outputs": [
    {
     "data": {
      "text/plain": [
       "dict_keys(['WC', 'EC'])"
      ]
     },
     "execution_count": 3,
     "metadata": {},
     "output_type": "execute_result"
    }
   ],
   "source": [
    "dsi_lecture_times.keys()"
   ]
  },
  {
   "cell_type": "markdown",
   "metadata": {},
   "source": [
    "Once you identify the key you want to access, use square brackets (i.e., `[]`) to access the value associated with that key."
   ]
  },
  {
   "cell_type": "code",
   "execution_count": 4,
   "metadata": {},
   "outputs": [
    {
     "data": {
      "text/plain": [
       "{'BOS': {'M': [10, 3], 'T': [10, 3], 'W': [10, 3], 'Th': [10], 'F': [10]},\n",
       " 'NYC': {'M': [10, 3], 'T': [10, 3], 'W': [10, 3], 'Th': [10], 'F': [10]},\n",
       " 'DC': {'M': [10, 3], 'T': [10, 3], 'W': [10, 3], 'Th': [10], 'F': [10]},\n",
       " 'ATX': {'M': [9, 2], 'T': [9, 2], 'W': [9, 2], 'Th': [9], 'F': [9]},\n",
       " 'CHI': {'M': [9, 2], 'T': [9, 2], 'W': [9, 2], 'Th': [9], 'F': [9]},\n",
       " 'ATL': {'M': [10, 3], 'T': [10, 3], 'W': [10, 3], 'Th': [10], 'F': [10]}}"
      ]
     },
     "execution_count": 4,
     "metadata": {},
     "output_type": "execute_result"
    }
   ],
   "source": [
    "dsi_lecture_times['EC']"
   ]
  },
  {
   "cell_type": "markdown",
   "metadata": {},
   "source": [
    "It appears that we're still working with a dict. Let's check the type."
   ]
  },
  {
   "cell_type": "code",
   "execution_count": 5,
   "metadata": {},
   "outputs": [
    {
     "data": {
      "text/plain": [
       "dict"
      ]
     },
     "execution_count": 5,
     "metadata": {},
     "output_type": "execute_result"
    }
   ],
   "source": [
    "type(dsi_lecture_times['EC'])"
   ]
  },
  {
   "cell_type": "markdown",
   "metadata": {},
   "source": [
    "It is, in fact, a dictionary. This means that we can use dictionary methods on it. Let's look at the keys."
   ]
  },
  {
   "cell_type": "code",
   "execution_count": 6,
   "metadata": {},
   "outputs": [
    {
     "data": {
      "text/plain": [
       "dict_keys(['BOS', 'NYC', 'DC', 'ATX', 'CHI', 'ATL'])"
      ]
     },
     "execution_count": 6,
     "metadata": {},
     "output_type": "execute_result"
    }
   ],
   "source": [
    "dsi_lecture_times['EC'].keys()"
   ]
  },
  {
   "cell_type": "markdown",
   "metadata": {},
   "source": [
    "We can continue to add `[]` with our desired key because **`dsi_lecture_times['EC']`** points directly to a dict and operates in the same way a variable name pointing to a dict would."
   ]
  },
  {
   "cell_type": "code",
   "execution_count": 7,
   "metadata": {},
   "outputs": [
    {
     "data": {
      "text/plain": [
       "{'M': [9, 2], 'T': [9, 2], 'W': [9, 2], 'Th': [9], 'F': [9]}"
      ]
     },
     "execution_count": 7,
     "metadata": {},
     "output_type": "execute_result"
    }
   ],
   "source": [
    "dsi_lecture_times['EC']['CHI']"
   ]
  },
  {
   "cell_type": "markdown",
   "metadata": {},
   "source": [
    "At this point, you can probably guess how we can access the times for Wednesday. Just add the `['W']` key."
   ]
  },
  {
   "cell_type": "code",
   "execution_count": 8,
   "metadata": {},
   "outputs": [
    {
     "data": {
      "text/plain": [
       "[9, 2]"
      ]
     },
     "execution_count": 8,
     "metadata": {},
     "output_type": "execute_result"
    }
   ],
   "source": [
    "dsi_lecture_times['EC']['CHI']['W']"
   ]
  },
  {
   "cell_type": "markdown",
   "metadata": {},
   "source": [
    "Let's check the type of this final level."
   ]
  },
  {
   "cell_type": "code",
   "execution_count": 9,
   "metadata": {},
   "outputs": [
    {
     "data": {
      "text/plain": [
       "list"
      ]
     },
     "execution_count": 9,
     "metadata": {},
     "output_type": "execute_result"
    }
   ],
   "source": [
    "type(dsi_lecture_times['EC']['CHI']['W'])"
   ]
  },
  {
   "cell_type": "markdown",
   "metadata": {},
   "source": [
    "Because it is a `list` and lists are 0-indexed, to capture the time of the 2nd lecture, we'll use `[1]`. So, to directly access the time of the afternoon lecture in Chicago on Wedensdays, we'll use the following:"
   ]
  },
  {
   "cell_type": "code",
   "execution_count": 10,
   "metadata": {},
   "outputs": [
    {
     "data": {
      "text/plain": [
       "2"
      ]
     },
     "execution_count": 10,
     "metadata": {},
     "output_type": "execute_result"
    }
   ],
   "source": [
    "dsi_lecture_times['EC']['CHI']['W'][1]"
   ]
  },
  {
   "cell_type": "markdown",
   "metadata": {},
   "source": [
    "**Don't get overwhelmed trying to go directly to your target.** Drill down through your data one level at a time, and you're less likely to get lost.\n",
    "___\n",
    "\n",
    "Now, let's [dig(lett)](https://pokemondb.net/pokedex/diglett) into some Pokemon data.\n",
    "\n",
    "![diglett](images/diglett.jpg)\n",
    "\n",
    "Remember, nested dicts aren't aren't [magik(arp)](https://pokemondb.net/pokedex/magikarp).\n",
    "\n",
    "![magikarp](images/magikarp.jpg)"
   ]
  },
  {
   "cell_type": "markdown",
   "metadata": {},
   "source": [
    "## 1. Defining a player\n",
    "\n",
    "---\n",
    "Each player needs to have a set of charactaristics, stored in variables, such as an id, a username, play data, etc. A great structure to house these variables is a `dictionary`, because the `values` can contain any python datatype includeing `list`, `dict`, `tuple`, `int`, `float`, `bool`, or `str`. \n",
    "\n",
    "The player characteristics (keys to the player dict) are:\n",
    "\n",
    "    player_id : id code unique to each player (integer)\n",
    "    player_name : entered name of the player (string)\n",
    "    time_played : number of time played the game in minutes (float)\n",
    "    player_pokemon: the player's captured pokemon (dictionary)\n",
    "    gyms_visited: ids of the gyms that a player has visited (list)"
   ]
  },
  {
   "cell_type": "markdown",
   "metadata": {},
   "source": [
    "### A) Create a `dict` for a single player.\n",
    "\n",
    "* The `player_id` should be 1\n",
    "* Since the player doesn't have a name yet, you may set the `player_name` equal to `None`\n",
    "* The rest of the fields should be populated properly depending on the datatype, i.e., `0.0` or an empty iterable of the appropriate type."
   ]
  },
  {
   "cell_type": "code",
   "execution_count": 115,
   "metadata": {},
   "outputs": [
    {
     "data": {
      "text/plain": [
       "{'player_id': 1,\n",
       " 'player_name': 'None',\n",
       " 'time_played': 0,\n",
       " 'player_pokemon': {},\n",
       " 'gyms_visited': []}"
      ]
     },
     "execution_count": 115,
     "metadata": {},
     "output_type": "execute_result"
    }
   ],
   "source": [
    "dict = {\n",
    "    'player_id' : 1 , \n",
    "    'player_name' : 'None', \n",
    "    'time_played' : 0, \n",
    "    'player_pokemon' : {} , \n",
    "    'gyms_visited' : []}\n",
    "\n",
    "dict"
   ]
  },
  {
   "cell_type": "markdown",
   "metadata": {},
   "source": [
    "### B) Create a `dict` to house your dataset of players.\n",
    "\n",
    "* Because only `player_1` exists, there should only be one `key:value` pair. \n",
    "* The `keys` of this `dict` should be the `player_id`, and the `values` should be the dictionaries with single-player info, including the `player_id` (slightly redundant)."
   ]
  },
  {
   "cell_type": "code",
   "execution_count": 116,
   "metadata": {},
   "outputs": [],
   "source": [
    "dict = {\n",
    "    'player 1':\n",
    "    {\n",
    "        'player_id' : 1 , \n",
    "        'player_name' : 'None', \n",
    "        'time_played' : 0, \n",
    "        'player_pokemon' : {} , \n",
    "        'gyms_visited' : []\n",
    "    }\n",
    "}"
   ]
  },
  {
   "cell_type": "markdown",
   "metadata": {},
   "source": [
    "To see the contents of a variable, just run a code cell with the variable name in it."
   ]
  },
  {
   "cell_type": "code",
   "execution_count": 117,
   "metadata": {},
   "outputs": [
    {
     "data": {
      "text/plain": [
       "{'player 1': {'player_id': 1,\n",
       "  'player_name': 'None',\n",
       "  'time_played': 0,\n",
       "  'player_pokemon': {},\n",
       "  'gyms_visited': []}}"
      ]
     },
     "execution_count": 117,
     "metadata": {},
     "output_type": "execute_result"
    }
   ],
   "source": [
    "poke_players = dict\n",
    "poke_players"
   ]
  },
  {
   "cell_type": "markdown",
   "metadata": {},
   "source": [
    "### C) Update player 1's info with your own.\n",
    "\n",
    "* By indexing your `poke_players` dictionary, update the `player_name` field to your own name.\n",
    "* Display the contents of `poke_players` to check your work."
   ]
  },
  {
   "cell_type": "code",
   "execution_count": 118,
   "metadata": {},
   "outputs": [
    {
     "data": {
      "text/plain": [
       "{'player 1': {'player_id': 1,\n",
       "  'player_name': 'Shijo George',\n",
       "  'time_played': 0,\n",
       "  'player_pokemon': {},\n",
       "  'gyms_visited': []}}"
      ]
     },
     "execution_count": 118,
     "metadata": {},
     "output_type": "execute_result"
    }
   ],
   "source": [
    "poke_players['player 1']['player_name'] = 'Shijo George'\n",
    "poke_players"
   ]
  },
  {
   "cell_type": "markdown",
   "metadata": {},
   "source": [
    "### D) Define a function that adds a player to `poke_players`.\n",
    "\n",
    "Your functions should...\n",
    "\n",
    "* Take arguments for `players_dict`, `player_id`, and `player_name`.\n",
    "* Create a player with the above values and populate the `gyms_visited`, `player_pokemon`, and `time_played` in the same way you did for `player_1` above.\n",
    "* Prints the name of the player added.\n",
    "* `return` the updated dictionary."
   ]
  },
  {
   "cell_type": "code",
   "execution_count": 119,
   "metadata": {},
   "outputs": [],
   "source": [
    "def add_player(players_dict, player_id, player_name):\n",
    "    dict[players_dict]={\n",
    "        'player_id' : player_id , \n",
    "        'player_name' : player_name, \n",
    "        'time_played' : 0, \n",
    "        'player_pokemon' : {} , \n",
    "        'gyms_visited' : []\n",
    "    }\n",
    "    return dict\n"
   ]
  },
  {
   "cell_type": "markdown",
   "metadata": {},
   "source": [
    "### E) Add a new player\n",
    "\n",
    "* Add a second player to the `poke_players` dictionary using the `add_player` function. The id should be 2, but the name is up to you!\n",
    "* Reassign and overwrite the `poke_players` dictionary.\n",
    "* Display the contents of `poke_players` to check your work."
   ]
  },
  {
   "cell_type": "code",
   "execution_count": 120,
   "metadata": {
    "scrolled": true
   },
   "outputs": [
    {
     "data": {
      "text/plain": [
       "{'player 1': {'player_id': 1,\n",
       "  'player_name': 'Shijo George',\n",
       "  'time_played': 0,\n",
       "  'player_pokemon': {},\n",
       "  'gyms_visited': []},\n",
       " 'player 2': {'player_id': 2,\n",
       "  'player_name': 'Player_2',\n",
       "  'time_played': 0,\n",
       "  'player_pokemon': {},\n",
       "  'gyms_visited': []}}"
      ]
     },
     "execution_count": 120,
     "metadata": {},
     "output_type": "execute_result"
    }
   ],
   "source": [
    "poke_players = add_player(\"player 2\", 2, \"Player_2\")\n",
    "poke_players"
   ]
  },
  {
   "cell_type": "markdown",
   "metadata": {},
   "source": [
    "## 2. Defining \"gym\" locations\n",
    "\n",
    "---\n",
    "\n",
    "As the sole programmer, Pokemon Stay will have to start small. To begin, there will be 10 different gym location websites on the internet. The gym locations are:\n",
    "\n",
    "    1. 'reddit.com'\n",
    "    2. 'amazon.com'\n",
    "    3. 'twitter.com'\n",
    "    4. 'linkedin.com'\n",
    "    5. 'ebay.com'\n",
    "    6. 'netflix.com'\n",
    "    7. 'stackoverflow.com'\n",
    "    8. 'github.com'\n",
    "    9. 'quora.com'\n",
    "    10. 'google.com'\n",
    "\n",
    "* Set up a list of all the gym locations. This will be a list of strings. Print the list to check your work.\n",
    "* For each player in `poke_players`, use `sample` (imported from `random` below) to randomly select 2 gyms and add these gyms to the `gyms_visited` field.\n",
    "* Display the contents of `poke_players` to check your work."
   ]
  },
  {
   "cell_type": "code",
   "execution_count": 17,
   "metadata": {},
   "outputs": [],
   "source": [
    "from random import sample"
   ]
  },
  {
   "cell_type": "code",
   "execution_count": 18,
   "metadata": {},
   "outputs": [
    {
     "data": {
      "text/plain": [
       "[1, 0.8, 'apple']"
      ]
     },
     "execution_count": 18,
     "metadata": {},
     "output_type": "execute_result"
    }
   ],
   "source": [
    "# Run this cell a few times to understand sample. Play around with the function!\n",
    "this_list = ['apple', 1, ('a','b','c'), 0.8]\n",
    "sample(this_list, 3)"
   ]
  },
  {
   "cell_type": "code",
   "execution_count": 121,
   "metadata": {},
   "outputs": [
    {
     "data": {
      "text/plain": [
       "{'player 1': {'player_id': 1,\n",
       "  'player_name': 'Shijo George',\n",
       "  'time_played': 0,\n",
       "  'player_pokemon': {},\n",
       "  'gyms_visited': ['google.com', 'stackoverflow.com']},\n",
       " 'player 2': {'player_id': 2,\n",
       "  'player_name': 'Player_2',\n",
       "  'time_played': 0,\n",
       "  'player_pokemon': {},\n",
       "  'gyms_visited': ['twitter.com', 'github.com']}}"
      ]
     },
     "execution_count": 121,
     "metadata": {},
     "output_type": "execute_result"
    }
   ],
   "source": [
    "gyms = ['reddit.com', 'amazon.com', 'twitter.com', 'linkedin.com', 'ebay.com', 'netflix.com', 'stackoverflow.com', 'github.com', 'quora.com', 'google.com']\n",
    "poke_players['player 1']['gyms_visited'] = sample(gyms,2)\n",
    "poke_players['player 2']['gyms_visited'] = sample(gyms,2)\n",
    "poke_players"
   ]
  },
  {
   "cell_type": "markdown",
   "metadata": {},
   "source": [
    "## 3. Create a pokedex\n",
    "\n",
    "---\n",
    "\n",
    "We also need to create some pokemon to catch! Let's store the attributes of each pokemon in a `dictionary`, since each pokemon has many characteristics we'd like to store.\n",
    "\n",
    "\n",
    "Each pokemon will be defined by these characteristics (keys to the pokemon dict):\n",
    "\n",
    "    poke_id : unique identifier for each pokemon (integer, sequential)\n",
    "    poke_name : the name of the pokemon (string)\n",
    "    poke_type : the category of pokemon (string)\n",
    "    hp : base hitpoints (integer between 400 and 500)\n",
    "    attack : base attack (integer between 50 and 100)\n",
    "    defense : base defense (integer between 50 and 100)\n",
    "    special_attack : base special attack (integer between 100 and 150)\n",
    "    special_defense : base sepecial defense (integer between 100 and 150)\n",
    "    speed : base speed (integer between 0 and 100)\n",
    "    \n",
    "**Note**: All integer ranges are inclusive on both ends."
   ]
  },
  {
   "cell_type": "markdown",
   "metadata": {},
   "source": [
    "### A) Create a function called `create_pokemon`\n",
    "\n",
    "* The function should take arguments for `poke_id`, `poke_name`, and `poke_type`.\n",
    "* Assign these arguments along with random stats into a `dict` using the guidelines above.\n",
    "* Use `np.random.randint` to generate values for the numeric attributes based on the conditions above. If you're not clear on how this function works, there is a cell below with an example. Play around with it!\n",
    "* The function should return a `dict` for the pokemon.\n",
    "* Without assigning it to a variable, check the function's output by calling it with the following arguments:\n",
    "  * `poke_id = 1`\n",
    "  * `poke_name = 'charmander'`\n",
    "  * `poke_type = 'fire'`"
   ]
  },
  {
   "cell_type": "code",
   "execution_count": 122,
   "metadata": {},
   "outputs": [],
   "source": [
    "import numpy as np\n",
    "\n",
    "pokedex = {1:{\n",
    "        'poke_name' : '', \n",
    "        'poke_type' : '', \n",
    "        'hp' : np.random.randint(400,500), \n",
    "        'attack' : np.random.randint(50,100),\n",
    "        'defense' : np.random.randint(50,100),\n",
    "        'special_attack' : np.random.randint(100,150), \n",
    "        'special_defense' : np.random.randint(100,150), \n",
    "        'speed' : np.random.randint(0,100)}}"
   ]
  },
  {
   "cell_type": "code",
   "execution_count": null,
   "metadata": {},
   "outputs": [],
   "source": [
    "# Play around with this cell to understand np.random.randint!\n",
    "\n",
    "np.random.randint(0,10)"
   ]
  },
  {
   "cell_type": "code",
   "execution_count": 123,
   "metadata": {},
   "outputs": [
    {
     "data": {
      "text/plain": [
       "{1: {'poke_name': 'charmander',\n",
       "  'poke_type': 'fire',\n",
       "  'hp': 463,\n",
       "  'attack': 73,\n",
       "  'defense': 69,\n",
       "  'special_attack': 133,\n",
       "  'special_defense': 122,\n",
       "  'speed': 87}}"
      ]
     },
     "execution_count": 123,
     "metadata": {},
     "output_type": "execute_result"
    }
   ],
   "source": [
    "def create_pokemon(poke_id, poke_name, poke_type):\n",
    "    pokedex[poke_id] = {\n",
    "        'poke_name' : poke_name, \n",
    "        'poke_type' : poke_type, \n",
    "        'hp' : np.random.randint(400,500), \n",
    "        'attack' : np.random.randint(50,100),\n",
    "        'defense' : np.random.randint(50,100),\n",
    "        'special_attack' : np.random.randint(100,150), \n",
    "        'special_defense' : np.random.randint(100,150), \n",
    "        'speed' : np.random.randint(0,100)}\n",
    "    \n",
    "    return pokedex\n",
    "\n",
    "poke = create_pokemon(1, 'charmander', 'fire')\n",
    "poke \n",
    "    \n",
    "    \n",
    "    \n",
    "    "
   ]
  },
  {
   "cell_type": "markdown",
   "metadata": {},
   "source": [
    "### B) Populate the `pokedex`!\n",
    "\n",
    "Now we need some pokemon to catch. Let's create a dictionary to store the information!\n",
    "\n",
    "* Instantiate an empyt dictionary called `pokedex`.\n",
    "* Define a function called `create_and_add_to_pokedex`. This function should...\n",
    "  * Take arguments for `pokedex`,  `poke_id`, `poke_name`, and `poke_type`.\n",
    "  * Use the `create_pokemon` function you created earlier to create a pokemon using the provided `poke_id`, `poke_name`, and `poke_type`.\n",
    "  * Add a new `key:value` pair to the `pokedex` dictionary where:\n",
    "    * the `key` is the `poke_id`, and\n",
    "    * the `value` is the newly-created pokemon dict, including the `poke_id` (this is slightly redundant, but that's ok!)\n",
    "  * Prints the name of the pokemon added to the pokedex using the string `format` method or `f` strings.\n",
    "* Add the following 3 pokemon to your `pokedex` using `create_and_add_to_pokedex`:\n",
    "\n",
    "|Id|Name|Type|\n",
    "|---|---|---|\n",
    "|1|charmander|fire|\n",
    "|2|squirtle|water|\n",
    "|3|bulasaur|poison|\n",
    "\n",
    "Display your `pokedex` to check your work. It should look something like...\n",
    "\n",
    "```python\n",
    "{1: {'attack': 64,\n",
    "  'defense': 59,\n",
    "  'hp': 495,\n",
    "  'poke_id': 1,\n",
    "  'poke_name': 'charmander',\n",
    "  'poke_type': 'fire',\n",
    "  'special_attack': 100,\n",
    "  ...\n",
    "```"
   ]
  },
  {
   "cell_type": "code",
   "execution_count": 132,
   "metadata": {},
   "outputs": [
    {
     "data": {
      "text/plain": [
       "{1: {'poke_name': 'charmander',\n",
       "  'poke_type': 'fire',\n",
       "  'hp': 485,\n",
       "  'attack': 92,\n",
       "  'defense': 95,\n",
       "  'special_attack': 100,\n",
       "  'special_defense': 142,\n",
       "  'speed': 64},\n",
       " 2: {'poke_name': 'squirtle',\n",
       "  'poke_type': 'water',\n",
       "  'hp': 406,\n",
       "  'attack': 68,\n",
       "  'defense': 60,\n",
       "  'special_attack': 126,\n",
       "  'special_defense': 116,\n",
       "  'speed': 53},\n",
       " 3: {'poke_name': 'bulasaur',\n",
       "  'poke_type': 'poison',\n",
       "  'hp': 456,\n",
       "  'attack': 95,\n",
       "  'defense': 78,\n",
       "  'special_attack': 123,\n",
       "  'special_defense': 118,\n",
       "  'speed': 45}}"
      ]
     },
     "execution_count": 132,
     "metadata": {},
     "output_type": "execute_result"
    }
   ],
   "source": [
    "pokedex = {}\n",
    "\n",
    "def create_and_add_to_pokedex(pokedex, poke_id, poke_name, poke_type):\n",
    "    pokedex = create_pokemon(poke_id, poke_name, poke_type)\n",
    "    return pokedex\n",
    "\n",
    "pokedex = create_and_add_to_pokedex(pokedex, 1, 'charmander', 'fire')\n",
    "pokedex = create_and_add_to_pokedex(pokedex, 2,'squirtle','water')\n",
    "pokedex = create_and_add_to_pokedex(pokedex, 3,'bulasaur','poison')\n",
    "\n",
    "pokedex"
   ]
  },
  {
   "cell_type": "code",
   "execution_count": null,
   "metadata": {},
   "outputs": [],
   "source": []
  },
  {
   "cell_type": "markdown",
   "metadata": {},
   "source": [
    "## 4. Let's capture some pokemon!\n",
    "\n",
    "---\n",
    "\n",
    "Each player in `poke_players` should have a nested dictionary with the key `'player_pokemon'`. This is intended to be the place where we keep track of which of the pokemon each player has.\n",
    "\n",
    "The keys of the `'player_pokemon'` dictionaries are the `poke_id`s that correspond to the ids in the `pokedex` dictionary you created earlier, and the values are the individual pokemon dicts. \n",
    "\n",
    "Essentially, we are replicating the structure of our `pokedex` for each user, only showing the Pokemon a particular user has captured nested within their individual player dictionary.\n",
    "\n",
    "* Define a function called `add_pokemon_to_player` that...\n",
    "  * Takes arguents for `player_id`, `poke_id`, `poke_players`, and `pokedex`.\n",
    "  * Adds the desired pokemon to the `player_pokemon` field of the specified player\n",
    "  * Prints which pokemon was added to which player.\n",
    "  * Returns the modified `poke_players`."
   ]
  },
  {
   "cell_type": "code",
   "execution_count": 125,
   "metadata": {},
   "outputs": [],
   "source": [
    "def add_pokemon_to_player(player_id, poke_id, poke_players, pokedex):\n",
    "    poke_players[player_id]['player_pokemon'][poke_id] = pokedex[poke_id]\n",
    "    return poke_players"
   ]
  },
  {
   "cell_type": "markdown",
   "metadata": {},
   "source": [
    "* Call your function three times to add \n",
    "  * `squirtle` to player 1\n",
    "  * `charmander` to player 2\n",
    "  * `bulbasaur` to player 2\n",
    "* Overwrite your `poke_player` variable each time with the updated dictionary.\n",
    "* Display the contents of `poke_players` to check your work."
   ]
  },
  {
   "cell_type": "code",
   "execution_count": 130,
   "metadata": {},
   "outputs": [
    {
     "data": {
      "text/plain": [
       "{'player 1': {'player_id': 1,\n",
       "  'player_name': 'Shijo George',\n",
       "  'time_played': 0,\n",
       "  'player_pokemon': {2: {'poke_name': 'squirtle',\n",
       "    'poke_type': 'water',\n",
       "    'hp': 427,\n",
       "    'attack': 67,\n",
       "    'defense': 90,\n",
       "    'special_attack': 144,\n",
       "    'special_defense': 122,\n",
       "    'speed': 76}},\n",
       "  'gyms_visited': ['google.com', 'stackoverflow.com']},\n",
       " 'player 2': {'player_id': 2,\n",
       "  'player_name': 'Player_2',\n",
       "  'time_played': 0,\n",
       "  'player_pokemon': {1: {'poke_name': 'charmander',\n",
       "    'poke_type': 'fire',\n",
       "    'hp': 427,\n",
       "    'attack': 60,\n",
       "    'defense': 69,\n",
       "    'special_attack': 112,\n",
       "    'special_defense': 113,\n",
       "    'speed': 35},\n",
       "   3: {'poke_name': 'bulasaur',\n",
       "    'poke_type': 'poison',\n",
       "    'hp': 435,\n",
       "    'attack': 83,\n",
       "    'defense': 79,\n",
       "    'special_attack': 136,\n",
       "    'special_defense': 136,\n",
       "    'speed': 67}},\n",
       "  'gyms_visited': ['twitter.com', 'github.com']}}"
      ]
     },
     "execution_count": 130,
     "metadata": {},
     "output_type": "execute_result"
    }
   ],
   "source": [
    "poke_players = add_pokemon_to_player('player 1', 2, poke_players, pokedex)\n",
    "\n",
    "poke_players = add_pokemon_to_player('player 2', 1, poke_players, pokedex)\n",
    "\n",
    "poke_players = add_pokemon_to_player('player 2', 3, poke_players, pokedex)\n",
    "\n",
    "poke_players"
   ]
  },
  {
   "cell_type": "markdown",
   "metadata": {},
   "source": [
    "## 5. What gyms have players visited?\n",
    "\n",
    "### A) Checking gyms\n",
    "\n",
    "Write a nested for-loop that:\n",
    "\n",
    "1. Iterates through the `gyms` list of gym locations you defined before.\n",
    "2. For each gym, iterate through each player in the `poke_players` dictionary with a second, internal for-loop, checking if the player has visited that gym (stored in the `'gyms_visited'` list).\n",
    "3. If the player has visited the gym, print out \"{player_name} has visited {gym}.\", filling in `{player_name}` and `{gym}` with the current player's name and current gym location."
   ]
  },
  {
   "cell_type": "code",
   "execution_count": 153,
   "metadata": {},
   "outputs": [
    {
     "name": "stdout",
     "output_type": "stream",
     "text": [
      "Player_2 has visited twitter.com\n",
      "Shijo George has visited stackoverflow.com\n",
      "Player_2 has visited github.com\n",
      "Shijo George has visited google.com\n",
      "40\n"
     ]
    }
   ],
   "source": [
    "count = 0\n",
    "for gym in gyms:\n",
    "    for k, v in poke_players.items():\n",
    "        for player_gym in poke_players[k]['gyms_visited']:\n",
    "            \n",
    "            count = count + 1\n",
    "            \n",
    "            if gym == player_gym:\n",
    "                print(poke_players[k]['player_name'] + \" has visited \" + gym)\n",
    "\n",
    "print(str(count))"
   ]
  },
  {
   "cell_type": "markdown",
   "metadata": {},
   "source": [
    "### B) Computational Complexity\n",
    "\n",
    "How many times did that loop run? If you have N gyms and also M players, how many times would it run as a function of N and M? \n",
    "\n",
    "(You can write your answer as Markdown text.)"
   ]
  },
  {
   "cell_type": "markdown",
   "metadata": {},
   "source": [
    "$N \\text{ gyms x } M \\text{ players } = NxM$"
   ]
  },
  {
   "cell_type": "markdown",
   "metadata": {},
   "source": [
    "The loop ran 40 times"
   ]
  },
  {
   "cell_type": "markdown",
   "metadata": {},
   "source": [
    "## 6. Calculate player \"power\".\n",
    "\n",
    "---\n",
    "\n",
    "Define a function that will calculate a player's \"power\". Player power is defined as the sum of the base statistics all of their pokemon.\n",
    "\n",
    "$$\n",
    "\\text{player power } = \\sum_{i = 1}^{n}\\text{attack}_i + \\text{defense}_i + \\text{special attack}_i + \\text{special defense}_i\n",
    "$$\n",
    "\n",
    "Where $i$ is an individual pokemon in a player's `player_pokemon`. ($\\sum$ just means sum, so you're just adding up all the attributes listed above for all the pokemon in the player's `player_pokemon`).\n",
    "\n",
    "Your function should:\n",
    "\n",
    "*  Accept a `poke_players` dictionary and a `player_id` as arguments.\n",
    "*  For the specified player_id, look up that player's pokemon.\n",
    "*  Find and aggregate the attack and defense values for each of the player's pokemon.\n",
    "*  Print \"{player_name}'s power is {player_power}.\", where the `player_power` is the sum of the base statistics for all of their pokemon.\n",
    "*  Return the player's power value.\n",
    "\n",
    "Check your work by looping through all players in your `poke_players` dict."
   ]
  },
  {
   "cell_type": "code",
   "execution_count": 163,
   "metadata": {},
   "outputs": [
    {
     "name": "stdout",
     "output_type": "stream",
     "text": [
      "Shijo George's power is 423\n",
      "Player_2's power is 788\n"
     ]
    },
    {
     "data": {
      "text/plain": [
       "788"
      ]
     },
     "execution_count": 163,
     "metadata": {},
     "output_type": "execute_result"
    }
   ],
   "source": [
    "\n",
    "\n",
    "def get_power(player_id, player_dict = poke_players):\n",
    "    power = 0\n",
    "    for k, v in poke_players[player_id]['player_pokemon'].items():\n",
    "        power = power + poke_players[player_id]['player_pokemon'][k]['attack']\n",
    "        power = power + poke_players[player_id]['player_pokemon'][k]['defense']\n",
    "        power = power + poke_players[player_id]['player_pokemon'][k]['special_attack']\n",
    "        power = power + poke_players[player_id]['player_pokemon'][k]['special_defense']\n",
    "\n",
    "    print(poke_players[player_id]['player_name'] + \"'s power is \" + str(power))\n",
    "    return power  \n",
    "\n",
    "get_power('player 1')\n",
    "get_power('player 2')"
   ]
  },
  {
   "cell_type": "markdown",
   "metadata": {},
   "source": [
    "## 7. Load a pokedex file containing all the pokemon\n",
    "\n",
    "---\n",
    "\n",
    "### Load data using the `with open()` method.\n",
    "\n",
    "While you were putting together the prototype code, your colleagues were preparing a dataset of Pokemon and their attributes (This was a rush job, so they may have picked some crazy values for some...). Your task is to load the data into a list of lists so you can manipulate it.\n",
    "\n",
    "* The `type` of the data should be a `list`\n",
    "  * The `type` of each element in that list should be a `list`\n",
    "    * The `type` of each element in the sub-list should be `str` or `float`.\n",
    "\n",
    "The code provided loads the data into one looooong `str`. To get it into the correct format:\n",
    "* Use the string `.replace()` method to remove `\"`. \n",
    "* Use the string `.split()` method to create a new row for each line. New lines are denoted with a `'\\n'`.\n",
    "* Use `.split()` again on each line, splitting on commas to separate your individual values.\n",
    "* Iterate through your data. Use `try/except` to cast numeric data as type `float`. \n",
    "\n",
    "Your end result is effectively a matrix. Each list $i$ in the outer list is a row, and the $j$th elements of list together form the *j*th column, which represents a data attribute. The first three lists in your pokedex list should look like this:\n",
    "\n",
    "    ['PokedexNumber', 'Name', 'Type', 'Total', 'HP', 'Attack', 'Defense', 'SpecialAttack', 'SpecialDefense', 'Speed']\n",
    "    [1.0, 'Bulbasaur', 'GrassPoison', 318.0, 45.0, 49.0, 49.0, 65.0, 65.0, 45.0]\n",
    "    [2.0, 'Ivysaur', 'GrassPoison', 405.0, 60.0, 62.0, 63.0, 80.0, 80.0, 60.0]\n",
    "    \n",
    "In the above example, `new_pd[1][3]` would return the value `[318.0]`, which occupies the 4th index of the 2nd row (Python is 0-indexed).\n",
    "    \n",
    "**WARNING:** Don't print or display your entire new pokedex! Viewing that many entries will clog up your notebook and make it difficult to read."
   ]
  },
  {
   "cell_type": "code",
   "execution_count": 3,
   "metadata": {},
   "outputs": [],
   "source": [
    "# Code to read in pokedex info\n",
    "raw_pd = ''\n",
    "pokedex_file = 'pokedex_basic.csv'\n",
    "with open(pokedex_file, 'r') as f:\n",
    "    raw_pd = f.read()\n",
    "    \n",
    "# the pokedex string is assigned to the raw_pd variable"
   ]
  },
  {
   "cell_type": "code",
   "execution_count": 49,
   "metadata": {},
   "outputs": [
    {
     "data": {
      "text/plain": [
       "[['PokedexNumber',\n",
       "  'Name',\n",
       "  'Type',\n",
       "  'Total',\n",
       "  'HP',\n",
       "  'Attack',\n",
       "  'Defense',\n",
       "  'SpecialAttack',\n",
       "  'SpecialDefense',\n",
       "  'Speed'],\n",
       " [1.0, 'Bulbasaur', 'GrassPoison', 318.0, 45.0, 49.0, 49.0, 65.0, 65.0, 45.0],\n",
       " [2.0, 'Ivysaur', 'GrassPoison', 405.0, 60.0, 62.0, 63.0, 80.0, 80.0, 60.0]]"
      ]
     },
     "execution_count": 49,
     "metadata": {},
     "output_type": "execute_result"
    }
   ],
   "source": [
    "new_pd = []\n",
    "\n",
    "raw_pd = raw_pd.replace('\"','')\n",
    "staging_pd = raw_pd.split(\"\\n\")\n",
    "\n",
    "count = 0\n",
    "for staging_str in staging_pd:\n",
    "    dummy = staging_str.split(\",\")\n",
    "    new_pd.append(dummy)   \n",
    "\n",
    "    if count != 0:\n",
    "        new_pd[count][0] = float(new_pd[count][0])\n",
    "        new_pd[count][-1] = float(new_pd[count][-1])\n",
    "        new_pd[count][-2] = float(new_pd[count][-2])\n",
    "        new_pd[count][-3] = float(new_pd[count][-3])\n",
    "        new_pd[count][-4] = float(new_pd[count][-4])\n",
    "        new_pd[count][-5] = float(new_pd[count][-5])\n",
    "        new_pd[count][-6] = float(new_pd[count][-6])\n",
    "        new_pd[count][-7] = float(new_pd[count][-7]) \n",
    "    \n",
    "    count += 1\n",
    "    \n",
    "new_pd[0:3]\n",
    "# Your code here"
   ]
  },
  {
   "cell_type": "markdown",
   "metadata": {},
   "source": [
    "To preview the top 3 rows of your list of lists, use the code below:"
   ]
  },
  {
   "cell_type": "code",
   "execution_count": 26,
   "metadata": {},
   "outputs": [
    {
     "data": {
      "text/plain": [
       "'\"PokedexNumber\",\"Name\",\"Type\",\"Total\",\"HP\",\"Attack\",\"Defense\",\"SpecialAttack\",\"SpecialDefense\",\"Speed\"\\n\"001\",\"Bulbasaur\",\"GrassPoison\",\"318\",\"45\",\"49\",\"49\",\"65\",\"65\",\"45\"\\n\"002\",\"Ivysaur\",\"GrassPoison\",\"405\",\"60\",\"62\",\"63\",\"80\",\"80\",\"60\"\\n\"003\",\"Venusaur\",\"GrassPoison\",\"525\",\"80\",\"82\",\"83\",\"100\",\"100\",\"80\"\\n\"003\",\"VenusaurMega Venusaur\",\"GrassPoison\",\"625\",\"80\",\"100\",\"123\",\"122\",\"120\",\"80\"\\n\"004\",\"Charmander\",\"Fire\",\"309\",\"39\",\"52\",\"43\",\"60\",\"50\",\"65\"\\n\"005\",\"Charmeleon\",\"Fire\",\"405\",\"58\",\"64\",\"58\",\"80\",\"65\",\"80\"\\n\"006\",\"Charizard\",\"FireFlying\",\"534\",\"78\",\"84\",\"78\",\"109\",\"85\",\"100\"\\n\"006\",\"CharizardMega Charizard X\",\"FireDragon\",\"634\",\"78\",\"130\",\"111\",\"130\",\"85\",\"100\"\\n\"006\",\"CharizardMega Charizard Y\",\"FireFlying\",\"634\",\"78\",\"104\",\"78\",\"159\",\"115\",\"100\"\\n\"007\",\"Squirtle\",\"Water\",\"314\",\"44\",\"48\",\"65\",\"50\",\"64\",\"43\"\\n\"008\",\"Wartortle\",\"Water\",\"405\",\"59\",\"63\",\"80\",\"65\",\"80\",\"58\"\\n\"009\",\"Blastoise\",\"Water\",\"530\",\"79\",\"83\",\"100\",\"85\",\"105\",\"78\"\\n\"009\",\"BlastoiseMega Blastoise\",\"Water\",\"630\",\"79\",\"103\",\"120\",\"135\",\"115\",\"78\"\\n\"010\",\"Caterpie\",\"Bug\",\"195\",\"45\",\"30\",\"35\",\"20\",\"20\",\"45\"\\n\"011\",\"Metapod\",\"Bug\",\"205\",\"50\",\"20\",\"55\",\"25\",\"25\",\"30\"\\n\"012\",\"Butterfree\",\"BugFlying\",\"395\",\"60\",\"45\",\"50\",\"90\",\"80\",\"70\"\\n\"013\",\"Weedle\",\"BugPoison\",\"195\",\"40\",\"35\",\"30\",\"20\",\"20\",\"50\"\\n\"014\",\"Kakuna\",\"BugPoison\",\"205\",\"45\",\"25\",\"50\",\"25\",\"25\",\"35\"\\n\"015\",\"Beedrill\",\"BugPoison\",\"395\",\"65\",\"90\",\"40\",\"45\",\"80\",\"75\"\\n\"015\",\"BeedrillMega Beedrill\",\"BugPoison\",\"495\",\"65\",\"150\",\"40\",\"15\",\"80\",\"145\"\\n\"016\",\"Pidgey\",\"NormalFlying\",\"251\",\"40\",\"45\",\"40\",\"35\",\"35\",\"56\"\\n\"017\",\"Pidgeotto\",\"NormalFlying\",\"349\",\"63\",\"60\",\"55\",\"50\",\"50\",\"71\"\\n\"018\",\"Pidgeot\",\"NormalFlying\",\"479\",\"83\",\"80\",\"75\",\"70\",\"70\",\"101\"\\n\"018\",\"PidgeotMega Pidgeot\",\"NormalFlying\",\"579\",\"83\",\"80\",\"80\",\"135\",\"80\",\"121\"\\n\"019\",\"Rattata\",\"Normal\",\"253\",\"30\",\"56\",\"35\",\"25\",\"35\",\"72\"\\n\"020\",\"Raticate\",\"Normal\",\"413\",\"55\",\"81\",\"60\",\"50\",\"70\",\"97\"\\n\"021\",\"Spearow\",\"NormalFlying\",\"262\",\"40\",\"60\",\"30\",\"31\",\"31\",\"70\"\\n\"022\",\"Fearow\",\"NormalFlying\",\"442\",\"65\",\"90\",\"65\",\"61\",\"61\",\"100\"\\n\"023\",\"Ekans\",\"Poison\",\"288\",\"35\",\"60\",\"44\",\"40\",\"54\",\"55\"\\n\"024\",\"Arbok\",\"Poison\",\"438\",\"60\",\"85\",\"69\",\"65\",\"79\",\"80\"\\n\"025\",\"Pikachu\",\"Electric\",\"320\",\"35\",\"55\",\"40\",\"50\",\"50\",\"90\"\\n\"026\",\"Raichu\",\"Electric\",\"485\",\"60\",\"90\",\"55\",\"90\",\"80\",\"110\"\\n\"027\",\"Sandshrew\",\"Ground\",\"300\",\"50\",\"75\",\"85\",\"20\",\"30\",\"40\"\\n\"028\",\"Sandslash\",\"Ground\",\"450\",\"75\",\"100\",\"110\",\"45\",\"55\",\"65\"\\n\"029\",\"NidoranF\",\"Poison\",\"275\",\"55\",\"47\",\"52\",\"40\",\"40\",\"41\"\\n\"030\",\"Nidorina\",\"Poison\",\"365\",\"70\",\"62\",\"67\",\"55\",\"55\",\"56\"\\n\"031\",\"Nidoqueen\",\"PoisonGround\",\"505\",\"90\",\"92\",\"87\",\"75\",\"85\",\"76\"\\n\"032\",\"NidoranM\",\"Poison\",\"273\",\"46\",\"57\",\"40\",\"40\",\"40\",\"50\"\\n\"033\",\"Nidorino\",\"Poison\",\"365\",\"61\",\"72\",\"57\",\"55\",\"55\",\"65\"\\n\"034\",\"Nidoking\",\"PoisonGround\",\"505\",\"81\",\"102\",\"77\",\"85\",\"75\",\"85\"\\n\"035\",\"Clefairy\",\"Fairy\",\"323\",\"70\",\"45\",\"48\",\"60\",\"65\",\"35\"\\n\"036\",\"Clefable\",\"Fairy\",\"483\",\"95\",\"70\",\"73\",\"95\",\"90\",\"60\"\\n\"037\",\"Vulpix\",\"Fire\",\"299\",\"38\",\"41\",\"40\",\"50\",\"65\",\"65\"\\n\"038\",\"Ninetales\",\"Fire\",\"505\",\"73\",\"76\",\"75\",\"81\",\"100\",\"100\"\\n\"039\",\"Jigglypuff\",\"NormalFairy\",\"270\",\"115\",\"45\",\"20\",\"45\",\"25\",\"20\"\\n\"040\",\"Wigglytuff\",\"NormalFairy\",\"435\",\"140\",\"70\",\"45\",\"85\",\"50\",\"45\"\\n\"041\",\"Zubat\",\"PoisonFlying\",\"245\",\"40\",\"45\",\"35\",\"30\",\"40\",\"55\"\\n\"042\",\"Golbat\",\"PoisonFlying\",\"455\",\"75\",\"80\",\"70\",\"65\",\"75\",\"90\"\\n\"043\",\"Oddish\",\"GrassPoison\",\"320\",\"45\",\"50\",\"55\",\"75\",\"65\",\"30\"\\n\"044\",\"Gloom\",\"GrassPoison\",\"395\",\"60\",\"65\",\"70\",\"85\",\"75\",\"40\"\\n\"045\",\"Vileplume\",\"GrassPoison\",\"490\",\"75\",\"80\",\"85\",\"110\",\"90\",\"50\"\\n\"046\",\"Paras\",\"BugGrass\",\"285\",\"35\",\"70\",\"55\",\"45\",\"55\",\"25\"\\n\"047\",\"Parasect\",\"BugGrass\",\"405\",\"60\",\"95\",\"80\",\"60\",\"80\",\"30\"\\n\"048\",\"Venonat\",\"BugPoison\",\"305\",\"60\",\"55\",\"50\",\"40\",\"55\",\"45\"\\n\"049\",\"Venomoth\",\"BugPoison\",\"450\",\"70\",\"65\",\"60\",\"90\",\"75\",\"90\"\\n\"050\",\"Diglett\",\"Ground\",\"265\",\"10\",\"55\",\"25\",\"35\",\"45\",\"95\"\\n\"051\",\"Dugtrio\",\"Ground\",\"405\",\"35\",\"80\",\"50\",\"50\",\"70\",\"120\"\\n\"052\",\"Meowth\",\"Normal\",\"290\",\"40\",\"45\",\"35\",\"40\",\"40\",\"90\"\\n\"053\",\"Persian\",\"Normal\",\"440\",\"65\",\"70\",\"60\",\"65\",\"65\",\"115\"\\n\"054\",\"Psyduck\",\"Water\",\"320\",\"50\",\"52\",\"48\",\"65\",\"50\",\"55\"\\n\"055\",\"Golduck\",\"Water\",\"500\",\"80\",\"82\",\"78\",\"95\",\"80\",\"85\"\\n\"056\",\"Mankey\",\"Fighting\",\"305\",\"40\",\"80\",\"35\",\"35\",\"45\",\"70\"\\n\"057\",\"Primeape\",\"Fighting\",\"455\",\"65\",\"105\",\"60\",\"60\",\"70\",\"95\"\\n\"058\",\"Growlithe\",\"Fire\",\"350\",\"55\",\"70\",\"45\",\"70\",\"50\",\"60\"\\n\"059\",\"Arcanine\",\"Fire\",\"555\",\"90\",\"110\",\"80\",\"100\",\"80\",\"95\"\\n\"060\",\"Poliwag\",\"Water\",\"300\",\"40\",\"50\",\"40\",\"40\",\"40\",\"90\"\\n\"061\",\"Poliwhirl\",\"Water\",\"385\",\"65\",\"65\",\"65\",\"50\",\"50\",\"90\"\\n\"062\",\"Poliwrath\",\"WaterFighting\",\"510\",\"90\",\"95\",\"95\",\"70\",\"90\",\"70\"\\n\"063\",\"Abra\",\"Psychic\",\"310\",\"25\",\"20\",\"15\",\"105\",\"55\",\"90\"\\n\"064\",\"Kadabra\",\"Psychic\",\"400\",\"40\",\"35\",\"30\",\"120\",\"70\",\"105\"\\n\"065\",\"Alakazam\",\"Psychic\",\"500\",\"55\",\"50\",\"45\",\"135\",\"95\",\"120\"\\n\"065\",\"AlakazamMega Alakazam\",\"Psychic\",\"590\",\"55\",\"50\",\"65\",\"175\",\"95\",\"150\"\\n\"066\",\"Machop\",\"Fighting\",\"305\",\"70\",\"80\",\"50\",\"35\",\"35\",\"35\"\\n\"067\",\"Machoke\",\"Fighting\",\"405\",\"80\",\"100\",\"70\",\"50\",\"60\",\"45\"\\n\"068\",\"Machamp\",\"Fighting\",\"505\",\"90\",\"130\",\"80\",\"65\",\"85\",\"55\"\\n\"069\",\"Bellsprout\",\"GrassPoison\",\"300\",\"50\",\"75\",\"35\",\"70\",\"30\",\"40\"\\n\"070\",\"Weepinbell\",\"GrassPoison\",\"390\",\"65\",\"90\",\"50\",\"85\",\"45\",\"55\"\\n\"071\",\"Victreebel\",\"GrassPoison\",\"490\",\"80\",\"105\",\"65\",\"100\",\"70\",\"70\"\\n\"072\",\"Tentacool\",\"WaterPoison\",\"335\",\"40\",\"40\",\"35\",\"50\",\"100\",\"70\"\\n\"073\",\"Tentacruel\",\"WaterPoison\",\"515\",\"80\",\"70\",\"65\",\"80\",\"120\",\"100\"\\n\"074\",\"Geodude\",\"RockGround\",\"300\",\"40\",\"80\",\"100\",\"30\",\"30\",\"20\"\\n\"075\",\"Graveler\",\"RockGround\",\"390\",\"55\",\"95\",\"115\",\"45\",\"45\",\"35\"\\n\"076\",\"Golem\",\"RockGround\",\"495\",\"80\",\"120\",\"130\",\"55\",\"65\",\"45\"\\n\"077\",\"Ponyta\",\"Fire\",\"410\",\"50\",\"85\",\"55\",\"65\",\"65\",\"90\"\\n\"078\",\"Rapidash\",\"Fire\",\"500\",\"65\",\"100\",\"70\",\"80\",\"80\",\"105\"\\n\"079\",\"Slowpoke\",\"WaterPsychic\",\"315\",\"90\",\"65\",\"65\",\"40\",\"40\",\"15\"\\n\"080\",\"Slowbro\",\"WaterPsychic\",\"490\",\"95\",\"75\",\"110\",\"100\",\"80\",\"30\"\\n\"080\",\"SlowbroMega Slowbro\",\"WaterPsychic\",\"590\",\"95\",\"75\",\"180\",\"130\",\"80\",\"30\"\\n\"081\",\"Magnemite\",\"ElectricSteel\",\"325\",\"25\",\"35\",\"70\",\"95\",\"55\",\"45\"\\n\"082\",\"Magneton\",\"ElectricSteel\",\"465\",\"50\",\"60\",\"95\",\"120\",\"70\",\"70\"\\n\"083\",\"Farfetch\\'d\",\"NormalFlying\",\"352\",\"52\",\"65\",\"55\",\"58\",\"62\",\"60\"\\n\"084\",\"Doduo\",\"NormalFlying\",\"310\",\"35\",\"85\",\"45\",\"35\",\"35\",\"75\"\\n\"085\",\"Dodrio\",\"NormalFlying\",\"460\",\"60\",\"110\",\"70\",\"60\",\"60\",\"100\"\\n\"086\",\"Seel\",\"Water\",\"325\",\"65\",\"45\",\"55\",\"45\",\"70\",\"45\"\\n\"087\",\"Dewgong\",\"WaterIce\",\"475\",\"90\",\"70\",\"80\",\"70\",\"95\",\"70\"\\n\"088\",\"Grimer\",\"Poison\",\"325\",\"80\",\"80\",\"50\",\"40\",\"50\",\"25\"\\n\"089\",\"Muk\",\"Poison\",\"500\",\"105\",\"105\",\"75\",\"65\",\"100\",\"50\"\\n\"090\",\"Shellder\",\"Water\",\"305\",\"30\",\"65\",\"100\",\"45\",\"25\",\"40\"\\n\"091\",\"Cloyster\",\"WaterIce\",\"525\",\"50\",\"95\",\"180\",\"85\",\"45\",\"70\"\\n\"092\",\"Gastly\",\"GhostPoison\",\"310\",\"30\",\"35\",\"30\",\"100\",\"35\",\"80\"\\n\"093\",\"Haunter\",\"GhostPoison\",\"405\",\"45\",\"50\",\"45\",\"115\",\"55\",\"95\"\\n\"094\",\"Gengar\",\"GhostPoison\",\"500\",\"60\",\"65\",\"60\",\"130\",\"75\",\"110\"\\n\"094\",\"GengarMega Gengar\",\"GhostPoison\",\"600\",\"60\",\"65\",\"80\",\"170\",\"95\",\"130\"\\n\"095\",\"Onix\",\"RockGround\",\"385\",\"35\",\"45\",\"160\",\"30\",\"45\",\"70\"\\n\"096\",\"Drowzee\",\"Psychic\",\"328\",\"60\",\"48\",\"45\",\"43\",\"90\",\"42\"\\n\"097\",\"Hypno\",\"Psychic\",\"483\",\"85\",\"73\",\"70\",\"73\",\"115\",\"67\"\\n\"098\",\"Krabby\",\"Water\",\"325\",\"30\",\"105\",\"90\",\"25\",\"25\",\"50\"\\n\"099\",\"Kingler\",\"Water\",\"475\",\"55\",\"130\",\"115\",\"50\",\"50\",\"75\"\\n\"100\",\"Voltorb\",\"Electric\",\"330\",\"40\",\"30\",\"50\",\"55\",\"55\",\"100\"\\n\"101\",\"Electrode\",\"Electric\",\"480\",\"60\",\"50\",\"70\",\"80\",\"80\",\"140\"\\n\"102\",\"Exeggcute\",\"GrassPsychic\",\"325\",\"60\",\"40\",\"80\",\"60\",\"45\",\"40\"\\n\"103\",\"Exeggutor\",\"GrassPsychic\",\"520\",\"95\",\"95\",\"85\",\"125\",\"65\",\"55\"\\n\"104\",\"Cubone\",\"Ground\",\"320\",\"50\",\"50\",\"95\",\"40\",\"50\",\"35\"\\n\"105\",\"Marowak\",\"Ground\",\"425\",\"60\",\"80\",\"110\",\"50\",\"80\",\"45\"\\n\"106\",\"Hitmonlee\",\"Fighting\",\"455\",\"50\",\"120\",\"53\",\"35\",\"110\",\"87\"\\n\"107\",\"Hitmonchan\",\"Fighting\",\"455\",\"50\",\"105\",\"79\",\"35\",\"110\",\"76\"\\n\"108\",\"Lickitung\",\"Normal\",\"385\",\"90\",\"55\",\"75\",\"60\",\"75\",\"30\"\\n\"109\",\"Koffing\",\"Poison\",\"340\",\"40\",\"65\",\"95\",\"60\",\"45\",\"35\"\\n\"110\",\"Weezing\",\"Poison\",\"490\",\"65\",\"90\",\"120\",\"85\",\"70\",\"60\"\\n\"111\",\"Rhyhorn\",\"GroundRock\",\"345\",\"80\",\"85\",\"95\",\"30\",\"30\",\"25\"\\n\"112\",\"Rhydon\",\"GroundRock\",\"485\",\"105\",\"130\",\"120\",\"45\",\"45\",\"40\"\\n\"113\",\"Chansey\",\"Normal\",\"450\",\"250\",\"5\",\"5\",\"35\",\"105\",\"50\"\\n\"114\",\"Tangela\",\"Grass\",\"435\",\"65\",\"55\",\"115\",\"100\",\"40\",\"60\"\\n\"115\",\"Kangaskhan\",\"Normal\",\"490\",\"105\",\"95\",\"80\",\"40\",\"80\",\"90\"\\n\"115\",\"KangaskhanMega Kangaskhan\",\"Normal\",\"590\",\"105\",\"125\",\"100\",\"60\",\"100\",\"100\"\\n\"116\",\"Horsea\",\"Water\",\"295\",\"30\",\"40\",\"70\",\"70\",\"25\",\"60\"\\n\"117\",\"Seadra\",\"Water\",\"440\",\"55\",\"65\",\"95\",\"95\",\"45\",\"85\"\\n\"118\",\"Goldeen\",\"Water\",\"320\",\"45\",\"67\",\"60\",\"35\",\"50\",\"63\"\\n\"119\",\"Seaking\",\"Water\",\"450\",\"80\",\"92\",\"65\",\"65\",\"80\",\"68\"\\n\"120\",\"Staryu\",\"Water\",\"340\",\"30\",\"45\",\"55\",\"70\",\"55\",\"85\"\\n\"121\",\"Starmie\",\"WaterPsychic\",\"520\",\"60\",\"75\",\"85\",\"100\",\"85\",\"115\"\\n\"122\",\"Mr. Mime\",\"PsychicFairy\",\"460\",\"40\",\"45\",\"65\",\"100\",\"120\",\"90\"\\n\"123\",\"Scyther\",\"BugFlying\",\"500\",\"70\",\"110\",\"80\",\"55\",\"80\",\"105\"\\n\"124\",\"Jynx\",\"IcePsychic\",\"455\",\"65\",\"50\",\"35\",\"115\",\"95\",\"95\"\\n\"125\",\"Electabuzz\",\"Electric\",\"490\",\"65\",\"83\",\"57\",\"95\",\"85\",\"105\"\\n\"126\",\"Magmar\",\"Fire\",\"495\",\"65\",\"95\",\"57\",\"100\",\"85\",\"93\"\\n\"127\",\"Pinsir\",\"Bug\",\"500\",\"65\",\"125\",\"100\",\"55\",\"70\",\"85\"\\n\"127\",\"PinsirMega Pinsir\",\"BugFlying\",\"600\",\"65\",\"155\",\"120\",\"65\",\"90\",\"105\"\\n\"128\",\"Tauros\",\"Normal\",\"490\",\"75\",\"100\",\"95\",\"40\",\"70\",\"110\"\\n\"129\",\"Magikarp\",\"Water\",\"200\",\"20\",\"10\",\"55\",\"15\",\"20\",\"80\"\\n\"130\",\"Gyarados\",\"WaterFlying\",\"540\",\"95\",\"125\",\"79\",\"60\",\"100\",\"81\"\\n\"130\",\"GyaradosMega Gyarados\",\"WaterDark\",\"640\",\"95\",\"155\",\"109\",\"70\",\"130\",\"81\"\\n\"131\",\"Lapras\",\"WaterIce\",\"535\",\"130\",\"85\",\"80\",\"85\",\"95\",\"60\"\\n\"132\",\"Ditto\",\"Normal\",\"288\",\"48\",\"48\",\"48\",\"48\",\"48\",\"48\"\\n\"133\",\"Eevee\",\"Normal\",\"325\",\"55\",\"55\",\"50\",\"45\",\"65\",\"55\"\\n\"134\",\"Vaporeon\",\"Water\",\"525\",\"130\",\"65\",\"60\",\"110\",\"95\",\"65\"\\n\"135\",\"Jolteon\",\"Electric\",\"525\",\"65\",\"65\",\"60\",\"110\",\"95\",\"130\"\\n\"136\",\"Flareon\",\"Fire\",\"525\",\"65\",\"130\",\"60\",\"95\",\"110\",\"65\"\\n\"137\",\"Porygon\",\"Normal\",\"395\",\"65\",\"60\",\"70\",\"85\",\"75\",\"40\"\\n\"138\",\"Omanyte\",\"RockWater\",\"355\",\"35\",\"40\",\"100\",\"90\",\"55\",\"35\"\\n\"139\",\"Omastar\",\"RockWater\",\"495\",\"70\",\"60\",\"125\",\"115\",\"70\",\"55\"\\n\"140\",\"Kabuto\",\"RockWater\",\"355\",\"30\",\"80\",\"90\",\"55\",\"45\",\"55\"\\n\"141\",\"Kabutops\",\"RockWater\",\"495\",\"60\",\"115\",\"105\",\"65\",\"70\",\"80\"\\n\"142\",\"Aerodactyl\",\"RockFlying\",\"515\",\"80\",\"105\",\"65\",\"60\",\"75\",\"130\"\\n\"142\",\"AerodactylMega Aerodactyl\",\"RockFlying\",\"615\",\"80\",\"135\",\"85\",\"70\",\"95\",\"150\"\\n\"143\",\"Snorlax\",\"Normal\",\"540\",\"160\",\"110\",\"65\",\"65\",\"110\",\"30\"\\n\"144\",\"Articuno\",\"IceFlying\",\"580\",\"90\",\"85\",\"100\",\"95\",\"125\",\"85\"\\n\"145\",\"Zapdos\",\"ElectricFlying\",\"580\",\"90\",\"90\",\"85\",\"125\",\"90\",\"100\"\\n\"146\",\"Moltres\",\"FireFlying\",\"580\",\"90\",\"100\",\"90\",\"125\",\"85\",\"90\"\\n\"147\",\"Dratini\",\"Dragon\",\"300\",\"41\",\"64\",\"45\",\"50\",\"50\",\"50\"\\n\"148\",\"Dragonair\",\"Dragon\",\"420\",\"61\",\"84\",\"65\",\"70\",\"70\",\"70\"\\n\"149\",\"Dragonite\",\"DragonFlying\",\"600\",\"91\",\"134\",\"95\",\"100\",\"100\",\"80\"\\n\"150\",\"Mewtwo\",\"Psychic\",\"680\",\"106\",\"110\",\"90\",\"154\",\"90\",\"130\"\\n\"150\",\"MewtwoMega Mewtwo X\",\"PsychicFighting\",\"800\",\"126\",\"190\",\"100\",\"154\",\"100\",\"130\"\\n\"150\",\"MewtwoMega Mewtwo Y\",\"Psychic\",\"780\",\"106\",\"150\",\"70\",\"194\",\"120\",\"140\"\\n\"151\",\"Mew\",\"Psychic\",\"600\",\"100\",\"100\",\"100\",\"100\",\"100\",\"100\"\\n\"152\",\"Chikorita\",\"Grass\",\"318\",\"45\",\"49\",\"65\",\"49\",\"65\",\"45\"\\n\"153\",\"Bayleef\",\"Grass\",\"405\",\"60\",\"62\",\"80\",\"63\",\"80\",\"60\"\\n\"154\",\"Meganium\",\"Grass\",\"525\",\"80\",\"82\",\"100\",\"83\",\"100\",\"80\"\\n\"155\",\"Cyndaquil\",\"Fire\",\"309\",\"39\",\"52\",\"43\",\"60\",\"50\",\"65\"\\n\"156\",\"Quilava\",\"Fire\",\"405\",\"58\",\"64\",\"58\",\"80\",\"65\",\"80\"\\n\"157\",\"Typhlosion\",\"Fire\",\"534\",\"78\",\"84\",\"78\",\"109\",\"85\",\"100\"\\n\"158\",\"Totodile\",\"Water\",\"314\",\"50\",\"65\",\"64\",\"44\",\"48\",\"43\"\\n\"159\",\"Croconaw\",\"Water\",\"405\",\"65\",\"80\",\"80\",\"59\",\"63\",\"58\"\\n\"160\",\"Feraligatr\",\"Water\",\"530\",\"85\",\"105\",\"100\",\"79\",\"83\",\"78\"\\n\"161\",\"Sentret\",\"Normal\",\"215\",\"35\",\"46\",\"34\",\"35\",\"45\",\"20\"\\n\"162\",\"Furret\",\"Normal\",\"415\",\"85\",\"76\",\"64\",\"45\",\"55\",\"90\"\\n\"163\",\"Hoothoot\",\"NormalFlying\",\"262\",\"60\",\"30\",\"30\",\"36\",\"56\",\"50\"\\n\"164\",\"Noctowl\",\"NormalFlying\",\"442\",\"100\",\"50\",\"50\",\"76\",\"96\",\"70\"\\n\"165\",\"Ledyba\",\"BugFlying\",\"265\",\"40\",\"20\",\"30\",\"40\",\"80\",\"55\"\\n\"166\",\"Ledian\",\"BugFlying\",\"390\",\"55\",\"35\",\"50\",\"55\",\"110\",\"85\"\\n\"167\",\"Spinarak\",\"BugPoison\",\"250\",\"40\",\"60\",\"40\",\"40\",\"40\",\"30\"\\n\"168\",\"Ariados\",\"BugPoison\",\"390\",\"70\",\"90\",\"70\",\"60\",\"60\",\"40\"\\n\"169\",\"Crobat\",\"PoisonFlying\",\"535\",\"85\",\"90\",\"80\",\"70\",\"80\",\"130\"\\n\"170\",\"Chinchou\",\"WaterElectric\",\"330\",\"75\",\"38\",\"38\",\"56\",\"56\",\"67\"\\n\"171\",\"Lanturn\",\"WaterElectric\",\"460\",\"125\",\"58\",\"58\",\"76\",\"76\",\"67\"\\n\"172\",\"Pichu\",\"Electric\",\"205\",\"20\",\"40\",\"15\",\"35\",\"35\",\"60\"\\n\"173\",\"Cleffa\",\"Fairy\",\"218\",\"50\",\"25\",\"28\",\"45\",\"55\",\"15\"\\n\"174\",\"Igglybuff\",\"NormalFairy\",\"210\",\"90\",\"30\",\"15\",\"40\",\"20\",\"15\"\\n\"175\",\"Togepi\",\"Fairy\",\"245\",\"35\",\"20\",\"65\",\"40\",\"65\",\"20\"\\n\"176\",\"Togetic\",\"FairyFlying\",\"405\",\"55\",\"40\",\"85\",\"80\",\"105\",\"40\"\\n\"177\",\"Natu\",\"PsychicFlying\",\"320\",\"40\",\"50\",\"45\",\"70\",\"45\",\"70\"\\n\"178\",\"Xatu\",\"PsychicFlying\",\"470\",\"65\",\"75\",\"70\",\"95\",\"70\",\"95\"\\n\"179\",\"Mareep\",\"Electric\",\"280\",\"55\",\"40\",\"40\",\"65\",\"45\",\"35\"\\n\"180\",\"Flaaffy\",\"Electric\",\"365\",\"70\",\"55\",\"55\",\"80\",\"60\",\"45\"\\n\"181\",\"Ampharos\",\"Electric\",\"510\",\"90\",\"75\",\"85\",\"115\",\"90\",\"55\"\\n\"181\",\"AmpharosMega Ampharos\",\"ElectricDragon\",\"610\",\"90\",\"95\",\"105\",\"165\",\"110\",\"45\"\\n\"182\",\"Bellossom\",\"Grass\",\"490\",\"75\",\"80\",\"95\",\"90\",\"100\",\"50\"\\n\"183\",\"Marill\",\"WaterFairy\",\"250\",\"70\",\"20\",\"50\",\"20\",\"50\",\"40\"\\n\"184\",\"Azumarill\",\"WaterFairy\",\"420\",\"100\",\"50\",\"80\",\"60\",\"80\",\"50\"\\n\"185\",\"Sudowoodo\",\"Rock\",\"410\",\"70\",\"100\",\"115\",\"30\",\"65\",\"30\"\\n\"186\",\"Politoed\",\"Water\",\"500\",\"90\",\"75\",\"75\",\"90\",\"100\",\"70\"\\n\"187\",\"Hoppip\",\"GrassFlying\",\"250\",\"35\",\"35\",\"40\",\"35\",\"55\",\"50\"\\n\"188\",\"Skiploom\",\"GrassFlying\",\"340\",\"55\",\"45\",\"50\",\"45\",\"65\",\"80\"\\n\"189\",\"Jumpluff\",\"GrassFlying\",\"460\",\"75\",\"55\",\"70\",\"55\",\"95\",\"110\"\\n\"190\",\"Aipom\",\"Normal\",\"360\",\"55\",\"70\",\"55\",\"40\",\"55\",\"85\"\\n\"191\",\"Sunkern\",\"Grass\",\"180\",\"30\",\"30\",\"30\",\"30\",\"30\",\"30\"\\n\"192\",\"Sunflora\",\"Grass\",\"425\",\"75\",\"75\",\"55\",\"105\",\"85\",\"30\"\\n\"193\",\"Yanma\",\"BugFlying\",\"390\",\"65\",\"65\",\"45\",\"75\",\"45\",\"95\"\\n\"194\",\"Wooper\",\"WaterGround\",\"210\",\"55\",\"45\",\"45\",\"25\",\"25\",\"15\"\\n\"195\",\"Quagsire\",\"WaterGround\",\"430\",\"95\",\"85\",\"85\",\"65\",\"65\",\"35\"\\n\"196\",\"Espeon\",\"Psychic\",\"525\",\"65\",\"65\",\"60\",\"130\",\"95\",\"110\"\\n\"197\",\"Umbreon\",\"Dark\",\"525\",\"95\",\"65\",\"110\",\"60\",\"130\",\"65\"\\n\"198\",\"Murkrow\",\"DarkFlying\",\"405\",\"60\",\"85\",\"42\",\"85\",\"42\",\"91\"\\n\"199\",\"Slowking\",\"WaterPsychic\",\"490\",\"95\",\"75\",\"80\",\"100\",\"110\",\"30\"\\n\"200\",\"Misdreavus\",\"Ghost\",\"435\",\"60\",\"60\",\"60\",\"85\",\"85\",\"85\"\\n\"201\",\"Unown\",\"Psychic\",\"336\",\"48\",\"72\",\"48\",\"72\",\"48\",\"48\"\\n\"202\",\"Wobbuffet\",\"Psychic\",\"405\",\"190\",\"33\",\"58\",\"33\",\"58\",\"33\"\\n\"203\",\"Girafarig\",\"NormalPsychic\",\"455\",\"70\",\"80\",\"65\",\"90\",\"65\",\"85\"\\n\"204\",\"Pineco\",\"Bug\",\"290\",\"50\",\"65\",\"90\",\"35\",\"35\",\"15\"\\n\"205\",\"Forretress\",\"BugSteel\",\"465\",\"75\",\"90\",\"140\",\"60\",\"60\",\"40\"\\n\"206\",\"Dunsparce\",\"Normal\",\"415\",\"100\",\"70\",\"70\",\"65\",\"65\",\"45\"\\n\"207\",\"Gligar\",\"GroundFlying\",\"430\",\"65\",\"75\",\"105\",\"35\",\"65\",\"85\"\\n\"208\",\"Steelix\",\"SteelGround\",\"510\",\"75\",\"85\",\"200\",\"55\",\"65\",\"30\"\\n\"208\",\"SteelixMega Steelix\",\"SteelGround\",\"610\",\"75\",\"125\",\"230\",\"55\",\"95\",\"30\"\\n\"209\",\"Snubbull\",\"Fairy\",\"300\",\"60\",\"80\",\"50\",\"40\",\"40\",\"30\"\\n\"210\",\"Granbull\",\"Fairy\",\"450\",\"90\",\"120\",\"75\",\"60\",\"60\",\"45\"\\n\"211\",\"Qwilfish\",\"WaterPoison\",\"430\",\"65\",\"95\",\"75\",\"55\",\"55\",\"85\"\\n\"212\",\"Scizor\",\"BugSteel\",\"500\",\"70\",\"130\",\"100\",\"55\",\"80\",\"65\"\\n\"212\",\"ScizorMega Scizor\",\"BugSteel\",\"600\",\"70\",\"150\",\"140\",\"65\",\"100\",\"75\"\\n\"213\",\"Shuckle\",\"BugRock\",\"505\",\"20\",\"10\",\"230\",\"10\",\"230\",\"5\"\\n\"214\",\"Heracross\",\"BugFighting\",\"500\",\"80\",\"125\",\"75\",\"40\",\"95\",\"85\"\\n\"214\",\"HeracrossMega Heracross\",\"BugFighting\",\"600\",\"80\",\"185\",\"115\",\"40\",\"105\",\"75\"\\n\"215\",\"Sneasel\",\"DarkIce\",\"430\",\"55\",\"95\",\"55\",\"35\",\"75\",\"115\"\\n\"216\",\"Teddiursa\",\"Normal\",\"330\",\"60\",\"80\",\"50\",\"50\",\"50\",\"40\"\\n\"217\",\"Ursaring\",\"Normal\",\"500\",\"90\",\"130\",\"75\",\"75\",\"75\",\"55\"\\n\"218\",\"Slugma\",\"Fire\",\"250\",\"40\",\"40\",\"40\",\"70\",\"40\",\"20\"\\n\"219\",\"Magcargo\",\"FireRock\",\"410\",\"50\",\"50\",\"120\",\"80\",\"80\",\"30\"\\n\"220\",\"Swinub\",\"IceGround\",\"250\",\"50\",\"50\",\"40\",\"30\",\"30\",\"50\"\\n\"221\",\"Piloswine\",\"IceGround\",\"450\",\"100\",\"100\",\"80\",\"60\",\"60\",\"50\"\\n\"222\",\"Corsola\",\"WaterRock\",\"380\",\"55\",\"55\",\"85\",\"65\",\"85\",\"35\"\\n\"223\",\"Remoraid\",\"Water\",\"300\",\"35\",\"65\",\"35\",\"65\",\"35\",\"65\"\\n\"224\",\"Octillery\",\"Water\",\"480\",\"75\",\"105\",\"75\",\"105\",\"75\",\"45\"\\n\"225\",\"Delibird\",\"IceFlying\",\"330\",\"45\",\"55\",\"45\",\"65\",\"45\",\"75\"\\n\"226\",\"Mantine\",\"WaterFlying\",\"465\",\"65\",\"40\",\"70\",\"80\",\"140\",\"70\"\\n\"227\",\"Skarmory\",\"SteelFlying\",\"465\",\"65\",\"80\",\"140\",\"40\",\"70\",\"70\"\\n\"228\",\"Houndour\",\"DarkFire\",\"330\",\"45\",\"60\",\"30\",\"80\",\"50\",\"65\"\\n\"229\",\"Houndoom\",\"DarkFire\",\"500\",\"75\",\"90\",\"50\",\"110\",\"80\",\"95\"\\n\"229\",\"HoundoomMega Houndoom\",\"DarkFire\",\"600\",\"75\",\"90\",\"90\",\"140\",\"90\",\"115\"\\n\"230\",\"Kingdra\",\"WaterDragon\",\"540\",\"75\",\"95\",\"95\",\"95\",\"95\",\"85\"\\n\"231\",\"Phanpy\",\"Ground\",\"330\",\"90\",\"60\",\"60\",\"40\",\"40\",\"40\"\\n\"232\",\"Donphan\",\"Ground\",\"500\",\"90\",\"120\",\"120\",\"60\",\"60\",\"50\"\\n\"233\",\"Porygon2\",\"Normal\",\"515\",\"85\",\"80\",\"90\",\"105\",\"95\",\"60\"\\n\"234\",\"Stantler\",\"Normal\",\"465\",\"73\",\"95\",\"62\",\"85\",\"65\",\"85\"\\n\"235\",\"Smeargle\",\"Normal\",\"250\",\"55\",\"20\",\"35\",\"20\",\"45\",\"75\"\\n\"236\",\"Tyrogue\",\"Fighting\",\"210\",\"35\",\"35\",\"35\",\"35\",\"35\",\"35\"\\n\"237\",\"Hitmontop\",\"Fighting\",\"455\",\"50\",\"95\",\"95\",\"35\",\"110\",\"70\"\\n\"238\",\"Smoochum\",\"IcePsychic\",\"305\",\"45\",\"30\",\"15\",\"85\",\"65\",\"65\"\\n\"239\",\"Elekid\",\"Electric\",\"360\",\"45\",\"63\",\"37\",\"65\",\"55\",\"95\"\\n\"240\",\"Magby\",\"Fire\",\"365\",\"45\",\"75\",\"37\",\"70\",\"55\",\"83\"\\n\"241\",\"Miltank\",\"Normal\",\"490\",\"95\",\"80\",\"105\",\"40\",\"70\",\"100\"\\n\"242\",\"Blissey\",\"Normal\",\"540\",\"255\",\"10\",\"10\",\"75\",\"135\",\"55\"\\n\"243\",\"Raikou\",\"Electric\",\"580\",\"90\",\"85\",\"75\",\"115\",\"100\",\"115\"\\n\"244\",\"Entei\",\"Fire\",\"580\",\"115\",\"115\",\"85\",\"90\",\"75\",\"100\"\\n\"245\",\"Suicune\",\"Water\",\"580\",\"100\",\"75\",\"115\",\"90\",\"115\",\"85\"\\n\"246\",\"Larvitar\",\"RockGround\",\"300\",\"50\",\"64\",\"50\",\"45\",\"50\",\"41\"\\n\"247\",\"Pupitar\",\"RockGround\",\"410\",\"70\",\"84\",\"70\",\"65\",\"70\",\"51\"\\n\"248\",\"Tyranitar\",\"RockDark\",\"600\",\"100\",\"134\",\"110\",\"95\",\"100\",\"61\"\\n\"248\",\"TyranitarMega Tyranitar\",\"RockDark\",\"700\",\"100\",\"164\",\"150\",\"95\",\"120\",\"71\"\\n\"249\",\"Lugia\",\"PsychicFlying\",\"680\",\"106\",\"90\",\"130\",\"90\",\"154\",\"110\"\\n\"250\",\"Ho-oh\",\"FireFlying\",\"680\",\"106\",\"130\",\"90\",\"110\",\"154\",\"90\"\\n\"251\",\"Celebi\",\"PsychicGrass\",\"600\",\"100\",\"100\",\"100\",\"100\",\"100\",\"100\"\\n\"252\",\"Treecko\",\"Grass\",\"310\",\"40\",\"45\",\"35\",\"65\",\"55\",\"70\"\\n\"253\",\"Grovyle\",\"Grass\",\"405\",\"50\",\"65\",\"45\",\"85\",\"65\",\"95\"\\n\"254\",\"Sceptile\",\"Grass\",\"530\",\"70\",\"85\",\"65\",\"105\",\"85\",\"120\"\\n\"254\",\"SceptileMega Sceptile\",\"GrassDragon\",\"630\",\"70\",\"110\",\"75\",\"145\",\"85\",\"145\"\\n\"255\",\"Torchic\",\"Fire\",\"310\",\"45\",\"60\",\"40\",\"70\",\"50\",\"45\"\\n\"256\",\"Combusken\",\"FireFighting\",\"405\",\"60\",\"85\",\"60\",\"85\",\"60\",\"55\"\\n\"257\",\"Blaziken\",\"FireFighting\",\"530\",\"80\",\"120\",\"70\",\"110\",\"70\",\"80\"\\n\"257\",\"BlazikenMega Blaziken\",\"FireFighting\",\"630\",\"80\",\"160\",\"80\",\"130\",\"80\",\"100\"\\n\"258\",\"Mudkip\",\"Water\",\"310\",\"50\",\"70\",\"50\",\"50\",\"50\",\"40\"\\n\"259\",\"Marshtomp\",\"WaterGround\",\"405\",\"70\",\"85\",\"70\",\"60\",\"70\",\"50\"\\n\"260\",\"Swampert\",\"WaterGround\",\"535\",\"100\",\"110\",\"90\",\"85\",\"90\",\"60\"\\n\"260\",\"SwampertMega Swampert\",\"WaterGround\",\"635\",\"100\",\"150\",\"110\",\"95\",\"110\",\"70\"\\n\"261\",\"Poochyena\",\"Dark\",\"220\",\"35\",\"55\",\"35\",\"30\",\"30\",\"35\"\\n\"262\",\"Mightyena\",\"Dark\",\"420\",\"70\",\"90\",\"70\",\"60\",\"60\",\"70\"\\n\"263\",\"Zigzagoon\",\"Normal\",\"240\",\"38\",\"30\",\"41\",\"30\",\"41\",\"60\"\\n\"264\",\"Linoone\",\"Normal\",\"420\",\"78\",\"70\",\"61\",\"50\",\"61\",\"100\"\\n\"265\",\"Wurmple\",\"Bug\",\"195\",\"45\",\"45\",\"35\",\"20\",\"30\",\"20\"\\n\"266\",\"Silcoon\",\"Bug\",\"205\",\"50\",\"35\",\"55\",\"25\",\"25\",\"15\"\\n\"267\",\"Beautifly\",\"BugFlying\",\"395\",\"60\",\"70\",\"50\",\"100\",\"50\",\"65\"\\n\"268\",\"Cascoon\",\"Bug\",\"205\",\"50\",\"35\",\"55\",\"25\",\"25\",\"15\"\\n\"269\",\"Dustox\",\"BugPoison\",\"385\",\"60\",\"50\",\"70\",\"50\",\"90\",\"65\"\\n\"270\",\"Lotad\",\"WaterGrass\",\"220\",\"40\",\"30\",\"30\",\"40\",\"50\",\"30\"\\n\"271\",\"Lombre\",\"WaterGrass\",\"340\",\"60\",\"50\",\"50\",\"60\",\"70\",\"50\"\\n\"272\",\"Ludicolo\",\"WaterGrass\",\"480\",\"80\",\"70\",\"70\",\"90\",\"100\",\"70\"\\n\"273\",\"Seedot\",\"Grass\",\"220\",\"40\",\"40\",\"50\",\"30\",\"30\",\"30\"\\n\"274\",\"Nuzleaf\",\"GrassDark\",\"340\",\"70\",\"70\",\"40\",\"60\",\"40\",\"60\"\\n\"275\",\"Shiftry\",\"GrassDark\",\"480\",\"90\",\"100\",\"60\",\"90\",\"60\",\"80\"\\n\"276\",\"Taillow\",\"NormalFlying\",\"270\",\"40\",\"55\",\"30\",\"30\",\"30\",\"85\"\\n\"277\",\"Swellow\",\"NormalFlying\",\"430\",\"60\",\"85\",\"60\",\"50\",\"50\",\"125\"\\n\"278\",\"Wingull\",\"WaterFlying\",\"270\",\"40\",\"30\",\"30\",\"55\",\"30\",\"85\"\\n\"279\",\"Pelipper\",\"WaterFlying\",\"430\",\"60\",\"50\",\"100\",\"85\",\"70\",\"65\"\\n\"280\",\"Ralts\",\"PsychicFairy\",\"198\",\"28\",\"25\",\"25\",\"45\",\"35\",\"40\"\\n\"281\",\"Kirlia\",\"PsychicFairy\",\"278\",\"38\",\"35\",\"35\",\"65\",\"55\",\"50\"\\n\"282\",\"Gardevoir\",\"PsychicFairy\",\"518\",\"68\",\"65\",\"65\",\"125\",\"115\",\"80\"\\n\"282\",\"GardevoirMega Gardevoir\",\"PsychicFairy\",\"618\",\"68\",\"85\",\"65\",\"165\",\"135\",\"100\"\\n\"283\",\"Surskit\",\"BugWater\",\"269\",\"40\",\"30\",\"32\",\"50\",\"52\",\"65\"\\n\"284\",\"Masquerain\",\"BugFlying\",\"414\",\"70\",\"60\",\"62\",\"80\",\"82\",\"60\"\\n\"285\",\"Shroomish\",\"Grass\",\"295\",\"60\",\"40\",\"60\",\"40\",\"60\",\"35\"\\n\"286\",\"Breloom\",\"GrassFighting\",\"460\",\"60\",\"130\",\"80\",\"60\",\"60\",\"70\"\\n\"287\",\"Slakoth\",\"Normal\",\"280\",\"60\",\"60\",\"60\",\"35\",\"35\",\"30\"\\n\"288\",\"Vigoroth\",\"Normal\",\"440\",\"80\",\"80\",\"80\",\"55\",\"55\",\"90\"\\n\"289\",\"Slaking\",\"Normal\",\"670\",\"150\",\"160\",\"100\",\"95\",\"65\",\"100\"\\n\"290\",\"Nincada\",\"BugGround\",\"266\",\"31\",\"45\",\"90\",\"30\",\"30\",\"40\"\\n\"291\",\"Ninjask\",\"BugFlying\",\"456\",\"61\",\"90\",\"45\",\"50\",\"50\",\"160\"\\n\"292\",\"Shedinja\",\"BugGhost\",\"236\",\"1\",\"90\",\"45\",\"30\",\"30\",\"40\"\\n\"293\",\"Whismur\",\"Normal\",\"240\",\"64\",\"51\",\"23\",\"51\",\"23\",\"28\"\\n\"294\",\"Loudred\",\"Normal\",\"360\",\"84\",\"71\",\"43\",\"71\",\"43\",\"48\"\\n\"295\",\"Exploud\",\"Normal\",\"490\",\"104\",\"91\",\"63\",\"91\",\"73\",\"68\"\\n\"296\",\"Makuhita\",\"Fighting\",\"237\",\"72\",\"60\",\"30\",\"20\",\"30\",\"25\"\\n\"297\",\"Hariyama\",\"Fighting\",\"474\",\"144\",\"120\",\"60\",\"40\",\"60\",\"50\"\\n\"298\",\"Azurill\",\"NormalFairy\",\"190\",\"50\",\"20\",\"40\",\"20\",\"40\",\"20\"\\n\"299\",\"Nosepass\",\"Rock\",\"375\",\"30\",\"45\",\"135\",\"45\",\"90\",\"30\"\\n\"300\",\"Skitty\",\"Normal\",\"260\",\"50\",\"45\",\"45\",\"35\",\"35\",\"50\"\\n\"301\",\"Delcatty\",\"Normal\",\"380\",\"70\",\"65\",\"65\",\"55\",\"55\",\"70\"\\n\"302\",\"Sableye\",\"DarkGhost\",\"380\",\"50\",\"75\",\"75\",\"65\",\"65\",\"50\"\\n\"302\",\"SableyeMega Sableye\",\"DarkGhost\",\"480\",\"50\",\"85\",\"125\",\"85\",\"115\",\"20\"\\n\"303\",\"Mawile\",\"SteelFairy\",\"380\",\"50\",\"85\",\"85\",\"55\",\"55\",\"50\"\\n\"303\",\"MawileMega Mawile\",\"SteelFairy\",\"480\",\"50\",\"105\",\"125\",\"55\",\"95\",\"50\"\\n\"304\",\"Aron\",\"SteelRock\",\"330\",\"50\",\"70\",\"100\",\"40\",\"40\",\"30\"\\n\"305\",\"Lairon\",\"SteelRock\",\"430\",\"60\",\"90\",\"140\",\"50\",\"50\",\"40\"\\n\"306\",\"Aggron\",\"SteelRock\",\"530\",\"70\",\"110\",\"180\",\"60\",\"60\",\"50\"\\n\"306\",\"AggronMega Aggron\",\"Steel\",\"630\",\"70\",\"140\",\"230\",\"60\",\"80\",\"50\"\\n\"307\",\"Meditite\",\"FightingPsychic\",\"280\",\"30\",\"40\",\"55\",\"40\",\"55\",\"60\"\\n\"308\",\"Medicham\",\"FightingPsychic\",\"410\",\"60\",\"60\",\"75\",\"60\",\"75\",\"80\"\\n\"308\",\"MedichamMega Medicham\",\"FightingPsychic\",\"510\",\"60\",\"100\",\"85\",\"80\",\"85\",\"100\"\\n\"309\",\"Electrike\",\"Electric\",\"295\",\"40\",\"45\",\"40\",\"65\",\"40\",\"65\"\\n\"310\",\"Manectric\",\"Electric\",\"475\",\"70\",\"75\",\"60\",\"105\",\"60\",\"105\"\\n\"310\",\"ManectricMega Manectric\",\"Electric\",\"575\",\"70\",\"75\",\"80\",\"135\",\"80\",\"135\"\\n\"311\",\"Plusle\",\"Electric\",\"405\",\"60\",\"50\",\"40\",\"85\",\"75\",\"95\"\\n\"312\",\"Minun\",\"Electric\",\"405\",\"60\",\"40\",\"50\",\"75\",\"85\",\"95\"\\n\"313\",\"Volbeat\",\"Bug\",\"400\",\"65\",\"73\",\"55\",\"47\",\"75\",\"85\"\\n\"314\",\"Illumise\",\"Bug\",\"400\",\"65\",\"47\",\"55\",\"73\",\"75\",\"85\"\\n\"315\",\"Roselia\",\"GrassPoison\",\"400\",\"50\",\"60\",\"45\",\"100\",\"80\",\"65\"\\n\"316\",\"Gulpin\",\"Poison\",\"302\",\"70\",\"43\",\"53\",\"43\",\"53\",\"40\"\\n\"317\",\"Swalot\",\"Poison\",\"467\",\"100\",\"73\",\"83\",\"73\",\"83\",\"55\"\\n\"318\",\"Carvanha\",\"WaterDark\",\"305\",\"45\",\"90\",\"20\",\"65\",\"20\",\"65\"\\n\"319\",\"Sharpedo\",\"WaterDark\",\"460\",\"70\",\"120\",\"40\",\"95\",\"40\",\"95\"\\n\"319\",\"SharpedoMega Sharpedo\",\"WaterDark\",\"560\",\"70\",\"140\",\"70\",\"110\",\"65\",\"105\"\\n\"320\",\"Wailmer\",\"Water\",\"400\",\"130\",\"70\",\"35\",\"70\",\"35\",\"60\"\\n\"321\",\"Wailord\",\"Water\",\"500\",\"170\",\"90\",\"45\",\"90\",\"45\",\"60\"\\n\"322\",\"Numel\",\"FireGround\",\"305\",\"60\",\"60\",\"40\",\"65\",\"45\",\"35\"\\n\"323\",\"Camerupt\",\"FireGround\",\"460\",\"70\",\"100\",\"70\",\"105\",\"75\",\"40\"\\n\"323\",\"CameruptMega Camerupt\",\"FireGround\",\"560\",\"70\",\"120\",\"100\",\"145\",\"105\",\"20\"\\n\"324\",\"Torkoal\",\"Fire\",\"470\",\"70\",\"85\",\"140\",\"85\",\"70\",\"20\"\\n\"325\",\"Spoink\",\"Psychic\",\"330\",\"60\",\"25\",\"35\",\"70\",\"80\",\"60\"\\n\"326\",\"Grumpig\",\"Psychic\",\"470\",\"80\",\"45\",\"65\",\"90\",\"110\",\"80\"\\n\"327\",\"Spinda\",\"Normal\",\"360\",\"60\",\"60\",\"60\",\"60\",\"60\",\"60\"\\n\"328\",\"Trapinch\",\"Ground\",\"290\",\"45\",\"100\",\"45\",\"45\",\"45\",\"10\"\\n\"329\",\"Vibrava\",\"GroundDragon\",\"340\",\"50\",\"70\",\"50\",\"50\",\"50\",\"70\"\\n\"330\",\"Flygon\",\"GroundDragon\",\"520\",\"80\",\"100\",\"80\",\"80\",\"80\",\"100\"\\n\"331\",\"Cacnea\",\"Grass\",\"335\",\"50\",\"85\",\"40\",\"85\",\"40\",\"35\"\\n\"332\",\"Cacturne\",\"GrassDark\",\"475\",\"70\",\"115\",\"60\",\"115\",\"60\",\"55\"\\n\"333\",\"Swablu\",\"NormalFlying\",\"310\",\"45\",\"40\",\"60\",\"40\",\"75\",\"50\"\\n\"334\",\"Altaria\",\"DragonFlying\",\"490\",\"75\",\"70\",\"90\",\"70\",\"105\",\"80\"\\n\"334\",\"AltariaMega Altaria\",\"DragonFairy\",\"590\",\"75\",\"110\",\"110\",\"110\",\"105\",\"80\"\\n\"335\",\"Zangoose\",\"Normal\",\"458\",\"73\",\"115\",\"60\",\"60\",\"60\",\"90\"\\n\"336\",\"Seviper\",\"Poison\",\"458\",\"73\",\"100\",\"60\",\"100\",\"60\",\"65\"\\n\"337\",\"Lunatone\",\"RockPsychic\",\"440\",\"70\",\"55\",\"65\",\"95\",\"85\",\"70\"\\n\"338\",\"Solrock\",\"RockPsychic\",\"440\",\"70\",\"95\",\"85\",\"55\",\"65\",\"70\"\\n\"339\",\"Barboach\",\"WaterGround\",\"288\",\"50\",\"48\",\"43\",\"46\",\"41\",\"60\"\\n\"340\",\"Whiscash\",\"WaterGround\",\"468\",\"110\",\"78\",\"73\",\"76\",\"71\",\"60\"\\n\"341\",\"Corphish\",\"Water\",\"308\",\"43\",\"80\",\"65\",\"50\",\"35\",\"35\"\\n\"342\",\"Crawdaunt\",\"WaterDark\",\"468\",\"63\",\"120\",\"85\",\"90\",\"55\",\"55\"\\n\"343\",\"Baltoy\",\"GroundPsychic\",\"300\",\"40\",\"40\",\"55\",\"40\",\"70\",\"55\"\\n\"344\",\"Claydol\",\"GroundPsychic\",\"500\",\"60\",\"70\",\"105\",\"70\",\"120\",\"75\"\\n\"345\",\"Lileep\",\"RockGrass\",\"355\",\"66\",\"41\",\"77\",\"61\",\"87\",\"23\"\\n\"346\",\"Cradily\",\"RockGrass\",\"495\",\"86\",\"81\",\"97\",\"81\",\"107\",\"43\"\\n\"347\",\"Anorith\",\"RockBug\",\"355\",\"45\",\"95\",\"50\",\"40\",\"50\",\"75\"\\n\"348\",\"Armaldo\",\"RockBug\",\"495\",\"75\",\"125\",\"100\",\"70\",\"80\",\"45\"\\n\"349\",\"Feebas\",\"Water\",\"200\",\"20\",\"15\",\"20\",\"10\",\"55\",\"80\"\\n\"350\",\"Milotic\",\"Water\",\"540\",\"95\",\"60\",\"79\",\"100\",\"125\",\"81\"\\n\"351\",\"Castform\",\"Normal\",\"420\",\"70\",\"70\",\"70\",\"70\",\"70\",\"70\"\\n\"352\",\"Kecleon\",\"Normal\",\"440\",\"60\",\"90\",\"70\",\"60\",\"120\",\"40\"\\n\"353\",\"Shuppet\",\"Ghost\",\"295\",\"44\",\"75\",\"35\",\"63\",\"33\",\"45\"\\n\"354\",\"Banette\",\"Ghost\",\"455\",\"64\",\"115\",\"65\",\"83\",\"63\",\"65\"\\n\"354\",\"BanetteMega Banette\",\"Ghost\",\"555\",\"64\",\"165\",\"75\",\"93\",\"83\",\"75\"\\n\"355\",\"Duskull\",\"Ghost\",\"295\",\"20\",\"40\",\"90\",\"30\",\"90\",\"25\"\\n\"356\",\"Dusclops\",\"Ghost\",\"455\",\"40\",\"70\",\"130\",\"60\",\"130\",\"25\"\\n\"357\",\"Tropius\",\"GrassFlying\",\"460\",\"99\",\"68\",\"83\",\"72\",\"87\",\"51\"\\n\"358\",\"Chimecho\",\"Psychic\",\"425\",\"65\",\"50\",\"70\",\"95\",\"80\",\"65\"\\n\"359\",\"Absol\",\"Dark\",\"465\",\"65\",\"130\",\"60\",\"75\",\"60\",\"75\"\\n\"359\",\"AbsolMega Absol\",\"Dark\",\"565\",\"65\",\"150\",\"60\",\"115\",\"60\",\"115\"\\n\"360\",\"Wynaut\",\"Psychic\",\"260\",\"95\",\"23\",\"48\",\"23\",\"48\",\"23\"\\n\"361\",\"Snorunt\",\"Ice\",\"300\",\"50\",\"50\",\"50\",\"50\",\"50\",\"50\"\\n\"362\",\"Glalie\",\"Ice\",\"480\",\"80\",\"80\",\"80\",\"80\",\"80\",\"80\"\\n\"362\",\"GlalieMega Glalie\",\"Ice\",\"580\",\"80\",\"120\",\"80\",\"120\",\"80\",\"100\"\\n\"363\",\"Spheal\",\"IceWater\",\"290\",\"70\",\"40\",\"50\",\"55\",\"50\",\"25\"\\n\"364\",\"Sealeo\",\"IceWater\",\"410\",\"90\",\"60\",\"70\",\"75\",\"70\",\"45\"\\n\"365\",\"Walrein\",\"IceWater\",\"530\",\"110\",\"80\",\"90\",\"95\",\"90\",\"65\"\\n\"366\",\"Clamperl\",\"Water\",\"345\",\"35\",\"64\",\"85\",\"74\",\"55\",\"32\"\\n\"367\",\"Huntail\",\"Water\",\"485\",\"55\",\"104\",\"105\",\"94\",\"75\",\"52\"\\n\"368\",\"Gorebyss\",\"Water\",\"485\",\"55\",\"84\",\"105\",\"114\",\"75\",\"52\"\\n\"369\",\"Relicanth\",\"WaterRock\",\"485\",\"100\",\"90\",\"130\",\"45\",\"65\",\"55\"\\n\"370\",\"Luvdisc\",\"Water\",\"330\",\"43\",\"30\",\"55\",\"40\",\"65\",\"97\"\\n\"371\",\"Bagon\",\"Dragon\",\"300\",\"45\",\"75\",\"60\",\"40\",\"30\",\"50\"\\n\"372\",\"Shelgon\",\"Dragon\",\"420\",\"65\",\"95\",\"100\",\"60\",\"50\",\"50\"\\n\"373\",\"Salamence\",\"DragonFlying\",\"600\",\"95\",\"135\",\"80\",\"110\",\"80\",\"100\"\\n\"373\",\"SalamenceMega Salamence\",\"DragonFlying\",\"700\",\"95\",\"145\",\"130\",\"120\",\"90\",\"120\"\\n\"374\",\"Beldum\",\"SteelPsychic\",\"300\",\"40\",\"55\",\"80\",\"35\",\"60\",\"30\"\\n\"375\",\"Metang\",\"SteelPsychic\",\"420\",\"60\",\"75\",\"100\",\"55\",\"80\",\"50\"\\n\"376\",\"Metagross\",\"SteelPsychic\",\"600\",\"80\",\"135\",\"130\",\"95\",\"90\",\"70\"\\n\"376\",\"MetagrossMega Metagross\",\"SteelPsychic\",\"700\",\"80\",\"145\",\"150\",\"105\",\"110\",\"110\"\\n\"377\",\"Regirock\",\"Rock\",\"580\",\"80\",\"100\",\"200\",\"50\",\"100\",\"50\"\\n\"378\",\"Regice\",\"Ice\",\"580\",\"80\",\"50\",\"100\",\"100\",\"200\",\"50\"\\n\"379\",\"Registeel\",\"Steel\",\"580\",\"80\",\"75\",\"150\",\"75\",\"150\",\"50\"\\n\"380\",\"Latias\",\"DragonPsychic\",\"600\",\"80\",\"80\",\"90\",\"110\",\"130\",\"110\"\\n\"380\",\"LatiasMega Latias\",\"DragonPsychic\",\"700\",\"80\",\"100\",\"120\",\"140\",\"150\",\"110\"\\n\"381\",\"Latios\",\"DragonPsychic\",\"600\",\"80\",\"90\",\"80\",\"130\",\"110\",\"110\"\\n\"381\",\"LatiosMega Latios\",\"DragonPsychic\",\"700\",\"80\",\"130\",\"100\",\"160\",\"120\",\"110\"\\n\"382\",\"Kyogre\",\"Water\",\"670\",\"100\",\"100\",\"90\",\"150\",\"140\",\"90\"\\n\"382\",\"KyogrePrimal Kyogre\",\"Water\",\"770\",\"100\",\"150\",\"90\",\"180\",\"160\",\"90\"\\n\"383\",\"Groudon\",\"Ground\",\"670\",\"100\",\"150\",\"140\",\"100\",\"90\",\"90\"\\n\"383\",\"GroudonPrimal Groudon\",\"GroundFire\",\"770\",\"100\",\"180\",\"160\",\"150\",\"90\",\"90\"\\n\"384\",\"Rayquaza\",\"DragonFlying\",\"680\",\"105\",\"150\",\"90\",\"150\",\"90\",\"95\"\\n\"384\",\"RayquazaMega Rayquaza\",\"DragonFlying\",\"780\",\"105\",\"180\",\"100\",\"180\",\"100\",\"115\"\\n\"385\",\"Jirachi\",\"SteelPsychic\",\"600\",\"100\",\"100\",\"100\",\"100\",\"100\",\"100\"\\n\"386\",\"DeoxysNormal Forme\",\"Psychic\",\"600\",\"50\",\"150\",\"50\",\"150\",\"50\",\"150\"\\n\"386\",\"DeoxysAttack Forme\",\"Psychic\",\"600\",\"50\",\"180\",\"20\",\"180\",\"20\",\"150\"\\n\"386\",\"DeoxysDefense Forme\",\"Psychic\",\"600\",\"50\",\"70\",\"160\",\"70\",\"160\",\"90\"\\n\"386\",\"DeoxysSpeed Forme\",\"Psychic\",\"600\",\"50\",\"95\",\"90\",\"95\",\"90\",\"180\"\\n\"387\",\"Turtwig\",\"Grass\",\"318\",\"55\",\"68\",\"64\",\"45\",\"55\",\"31\"\\n\"388\",\"Grotle\",\"Grass\",\"405\",\"75\",\"89\",\"85\",\"55\",\"65\",\"36\"\\n\"389\",\"Torterra\",\"GrassGround\",\"525\",\"95\",\"109\",\"105\",\"75\",\"85\",\"56\"\\n\"390\",\"Chimchar\",\"Fire\",\"309\",\"44\",\"58\",\"44\",\"58\",\"44\",\"61\"\\n\"391\",\"Monferno\",\"FireFighting\",\"405\",\"64\",\"78\",\"52\",\"78\",\"52\",\"81\"\\n\"392\",\"Infernape\",\"FireFighting\",\"534\",\"76\",\"104\",\"71\",\"104\",\"71\",\"108\"\\n\"393\",\"Piplup\",\"Water\",\"314\",\"53\",\"51\",\"53\",\"61\",\"56\",\"40\"\\n\"394\",\"Prinplup\",\"Water\",\"405\",\"64\",\"66\",\"68\",\"81\",\"76\",\"50\"\\n\"395\",\"Empoleon\",\"WaterSteel\",\"530\",\"84\",\"86\",\"88\",\"111\",\"101\",\"60\"\\n\"396\",\"Starly\",\"NormalFlying\",\"245\",\"40\",\"55\",\"30\",\"30\",\"30\",\"60\"\\n\"397\",\"Staravia\",\"NormalFlying\",\"340\",\"55\",\"75\",\"50\",\"40\",\"40\",\"80\"\\n\"398\",\"Staraptor\",\"NormalFlying\",\"485\",\"85\",\"120\",\"70\",\"50\",\"60\",\"100\"\\n\"399\",\"Bidoof\",\"Normal\",\"250\",\"59\",\"45\",\"40\",\"35\",\"40\",\"31\"\\n\"400\",\"Bibarel\",\"NormalWater\",\"410\",\"79\",\"85\",\"60\",\"55\",\"60\",\"71\"\\n\"401\",\"Kricketot\",\"Bug\",\"194\",\"37\",\"25\",\"41\",\"25\",\"41\",\"25\"\\n\"402\",\"Kricketune\",\"Bug\",\"384\",\"77\",\"85\",\"51\",\"55\",\"51\",\"65\"\\n\"403\",\"Shinx\",\"Electric\",\"263\",\"45\",\"65\",\"34\",\"40\",\"34\",\"45\"\\n\"404\",\"Luxio\",\"Electric\",\"363\",\"60\",\"85\",\"49\",\"60\",\"49\",\"60\"\\n\"405\",\"Luxray\",\"Electric\",\"523\",\"80\",\"120\",\"79\",\"95\",\"79\",\"70\"\\n\"406\",\"Budew\",\"GrassPoison\",\"280\",\"40\",\"30\",\"35\",\"50\",\"70\",\"55\"\\n\"407\",\"Roserade\",\"GrassPoison\",\"515\",\"60\",\"70\",\"65\",\"125\",\"105\",\"90\"\\n\"408\",\"Cranidos\",\"Rock\",\"350\",\"67\",\"125\",\"40\",\"30\",\"30\",\"58\"\\n\"409\",\"Rampardos\",\"Rock\",\"495\",\"97\",\"165\",\"60\",\"65\",\"50\",\"58\"\\n\"410\",\"Shieldon\",\"RockSteel\",\"350\",\"30\",\"42\",\"118\",\"42\",\"88\",\"30\"\\n\"411\",\"Bastiodon\",\"RockSteel\",\"495\",\"60\",\"52\",\"168\",\"47\",\"138\",\"30\"\\n\"412\",\"Burmy\",\"Bug\",\"224\",\"40\",\"29\",\"45\",\"29\",\"45\",\"36\"\\n\"413\",\"WormadamPlant Cloak\",\"BugGrass\",\"424\",\"60\",\"59\",\"85\",\"79\",\"105\",\"36\"\\n\"413\",\"WormadamSandy Cloak\",\"BugGround\",\"424\",\"60\",\"79\",\"105\",\"59\",\"85\",\"36\"\\n\"413\",\"WormadamTrash Cloak\",\"BugSteel\",\"424\",\"60\",\"69\",\"95\",\"69\",\"95\",\"36\"\\n\"414\",\"Mothim\",\"BugFlying\",\"424\",\"70\",\"94\",\"50\",\"94\",\"50\",\"66\"\\n\"415\",\"Combee\",\"BugFlying\",\"244\",\"30\",\"30\",\"42\",\"30\",\"42\",\"70\"\\n\"416\",\"Vespiquen\",\"BugFlying\",\"474\",\"70\",\"80\",\"102\",\"80\",\"102\",\"40\"\\n\"417\",\"Pachirisu\",\"Electric\",\"405\",\"60\",\"45\",\"70\",\"45\",\"90\",\"95\"\\n\"418\",\"Buizel\",\"Water\",\"330\",\"55\",\"65\",\"35\",\"60\",\"30\",\"85\"\\n\"419\",\"Floatzel\",\"Water\",\"495\",\"85\",\"105\",\"55\",\"85\",\"50\",\"115\"\\n\"420\",\"Cherubi\",\"Grass\",\"275\",\"45\",\"35\",\"45\",\"62\",\"53\",\"35\"\\n\"421\",\"Cherrim\",\"Grass\",\"450\",\"70\",\"60\",\"70\",\"87\",\"78\",\"85\"\\n\"422\",\"Shellos\",\"Water\",\"325\",\"76\",\"48\",\"48\",\"57\",\"62\",\"34\"\\n\"423\",\"Gastrodon\",\"WaterGround\",\"475\",\"111\",\"83\",\"68\",\"92\",\"82\",\"39\"\\n\"424\",\"Ambipom\",\"Normal\",\"482\",\"75\",\"100\",\"66\",\"60\",\"66\",\"115\"\\n\"425\",\"Drifloon\",\"GhostFlying\",\"348\",\"90\",\"50\",\"34\",\"60\",\"44\",\"70\"\\n\"426\",\"Drifblim\",\"GhostFlying\",\"498\",\"150\",\"80\",\"44\",\"90\",\"54\",\"80\"\\n\"427\",\"Buneary\",\"Normal\",\"350\",\"55\",\"66\",\"44\",\"44\",\"56\",\"85\"\\n\"428\",\"Lopunny\",\"Normal\",\"480\",\"65\",\"76\",\"84\",\"54\",\"96\",\"105\"\\n\"428\",\"LopunnyMega Lopunny\",\"NormalFighting\",\"580\",\"65\",\"136\",\"94\",\"54\",\"96\",\"135\"\\n\"429\",\"Mismagius\",\"Ghost\",\"495\",\"60\",\"60\",\"60\",\"105\",\"105\",\"105\"\\n\"430\",\"Honchkrow\",\"DarkFlying\",\"505\",\"100\",\"125\",\"52\",\"105\",\"52\",\"71\"\\n\"431\",\"Glameow\",\"Normal\",\"310\",\"49\",\"55\",\"42\",\"42\",\"37\",\"85\"\\n\"432\",\"Purugly\",\"Normal\",\"452\",\"71\",\"82\",\"64\",\"64\",\"59\",\"112\"\\n\"433\",\"Chingling\",\"Psychic\",\"285\",\"45\",\"30\",\"50\",\"65\",\"50\",\"45\"\\n\"434\",\"Stunky\",\"PoisonDark\",\"329\",\"63\",\"63\",\"47\",\"41\",\"41\",\"74\"\\n\"435\",\"Skuntank\",\"PoisonDark\",\"479\",\"103\",\"93\",\"67\",\"71\",\"61\",\"84\"\\n\"436\",\"Bronzor\",\"SteelPsychic\",\"300\",\"57\",\"24\",\"86\",\"24\",\"86\",\"23\"\\n\"437\",\"Bronzong\",\"SteelPsychic\",\"500\",\"67\",\"89\",\"116\",\"79\",\"116\",\"33\"\\n\"438\",\"Bonsly\",\"Rock\",\"290\",\"50\",\"80\",\"95\",\"10\",\"45\",\"10\"\\n\"439\",\"Mime Jr.\",\"PsychicFairy\",\"310\",\"20\",\"25\",\"45\",\"70\",\"90\",\"60\"\\n\"440\",\"Happiny\",\"Normal\",\"220\",\"100\",\"5\",\"5\",\"15\",\"65\",\"30\"\\n\"441\",\"Chatot\",\"NormalFlying\",\"411\",\"76\",\"65\",\"45\",\"92\",\"42\",\"91\"\\n\"442\",\"Spiritomb\",\"GhostDark\",\"485\",\"50\",\"92\",\"108\",\"92\",\"108\",\"35\"\\n\"443\",\"Gible\",\"DragonGround\",\"300\",\"58\",\"70\",\"45\",\"40\",\"45\",\"42\"\\n\"444\",\"Gabite\",\"DragonGround\",\"410\",\"68\",\"90\",\"65\",\"50\",\"55\",\"82\"\\n\"445\",\"Garchomp\",\"DragonGround\",\"600\",\"108\",\"130\",\"95\",\"80\",\"85\",\"102\"\\n\"445\",\"GarchompMega Garchomp\",\"DragonGround\",\"700\",\"108\",\"170\",\"115\",\"120\",\"95\",\"92\"\\n\"446\",\"Munchlax\",\"Normal\",\"390\",\"135\",\"85\",\"40\",\"40\",\"85\",\"5\"\\n\"447\",\"Riolu\",\"Fighting\",\"285\",\"40\",\"70\",\"40\",\"35\",\"40\",\"60\"\\n\"448\",\"Lucario\",\"FightingSteel\",\"525\",\"70\",\"110\",\"70\",\"115\",\"70\",\"90\"\\n\"448\",\"LucarioMega Lucario\",\"FightingSteel\",\"625\",\"70\",\"145\",\"88\",\"140\",\"70\",\"112\"\\n\"449\",\"Hippopotas\",\"Ground\",\"330\",\"68\",\"72\",\"78\",\"38\",\"42\",\"32\"\\n\"450\",\"Hippowdon\",\"Ground\",\"525\",\"108\",\"112\",\"118\",\"68\",\"72\",\"47\"\\n\"451\",\"Skorupi\",\"PoisonBug\",\"330\",\"40\",\"50\",\"90\",\"30\",\"55\",\"65\"\\n\"452\",\"Drapion\",\"PoisonDark\",\"500\",\"70\",\"90\",\"110\",\"60\",\"75\",\"95\"\\n\"453\",\"Croagunk\",\"PoisonFighting\",\"300\",\"48\",\"61\",\"40\",\"61\",\"40\",\"50\"\\n\"454\",\"Toxicroak\",\"PoisonFighting\",\"490\",\"83\",\"106\",\"65\",\"86\",\"65\",\"85\"\\n\"455\",\"Carnivine\",\"Grass\",\"454\",\"74\",\"100\",\"72\",\"90\",\"72\",\"46\"\\n\"456\",\"Finneon\",\"Water\",\"330\",\"49\",\"49\",\"56\",\"49\",\"61\",\"66\"\\n\"457\",\"Lumineon\",\"Water\",\"460\",\"69\",\"69\",\"76\",\"69\",\"86\",\"91\"\\n\"458\",\"Mantyke\",\"WaterFlying\",\"345\",\"45\",\"20\",\"50\",\"60\",\"120\",\"50\"\\n\"459\",\"Snover\",\"GrassIce\",\"334\",\"60\",\"62\",\"50\",\"62\",\"60\",\"40\"\\n\"460\",\"Abomasnow\",\"GrassIce\",\"494\",\"90\",\"92\",\"75\",\"92\",\"85\",\"60\"\\n\"460\",\"AbomasnowMega Abomasnow\",\"GrassIce\",\"594\",\"90\",\"132\",\"105\",\"132\",\"105\",\"30\"\\n\"461\",\"Weavile\",\"DarkIce\",\"510\",\"70\",\"120\",\"65\",\"45\",\"85\",\"125\"\\n\"462\",\"Magnezone\",\"ElectricSteel\",\"535\",\"70\",\"70\",\"115\",\"130\",\"90\",\"60\"\\n\"463\",\"Lickilicky\",\"Normal\",\"515\",\"110\",\"85\",\"95\",\"80\",\"95\",\"50\"\\n\"464\",\"Rhyperior\",\"GroundRock\",\"535\",\"115\",\"140\",\"130\",\"55\",\"55\",\"40\"\\n\"465\",\"Tangrowth\",\"Grass\",\"535\",\"100\",\"100\",\"125\",\"110\",\"50\",\"50\"\\n\"466\",\"Electivire\",\"Electric\",\"540\",\"75\",\"123\",\"67\",\"95\",\"85\",\"95\"\\n\"467\",\"Magmortar\",\"Fire\",\"540\",\"75\",\"95\",\"67\",\"125\",\"95\",\"83\"\\n\"468\",\"Togekiss\",\"FairyFlying\",\"545\",\"85\",\"50\",\"95\",\"120\",\"115\",\"80\"\\n\"469\",\"Yanmega\",\"BugFlying\",\"515\",\"86\",\"76\",\"86\",\"116\",\"56\",\"95\"\\n\"470\",\"Leafeon\",\"Grass\",\"525\",\"65\",\"110\",\"130\",\"60\",\"65\",\"95\"\\n\"471\",\"Glaceon\",\"Ice\",\"525\",\"65\",\"60\",\"110\",\"130\",\"95\",\"65\"\\n\"472\",\"Gliscor\",\"GroundFlying\",\"510\",\"75\",\"95\",\"125\",\"45\",\"75\",\"95\"\\n\"473\",\"Mamoswine\",\"IceGround\",\"530\",\"110\",\"130\",\"80\",\"70\",\"60\",\"80\"\\n\"474\",\"Porygon-Z\",\"Normal\",\"535\",\"85\",\"80\",\"70\",\"135\",\"75\",\"90\"\\n\"475\",\"Gallade\",\"PsychicFighting\",\"518\",\"68\",\"125\",\"65\",\"65\",\"115\",\"80\"\\n\"475\",\"GalladeMega Gallade\",\"PsychicFighting\",\"618\",\"68\",\"165\",\"95\",\"65\",\"115\",\"110\"\\n\"476\",\"Probopass\",\"RockSteel\",\"525\",\"60\",\"55\",\"145\",\"75\",\"150\",\"40\"\\n\"477\",\"Dusknoir\",\"Ghost\",\"525\",\"45\",\"100\",\"135\",\"65\",\"135\",\"45\"\\n\"478\",\"Froslass\",\"IceGhost\",\"480\",\"70\",\"80\",\"70\",\"80\",\"70\",\"110\"\\n\"479\",\"Rotom\",\"ElectricGhost\",\"440\",\"50\",\"50\",\"77\",\"95\",\"77\",\"91\"\\n\"479\",\"RotomHeat Rotom\",\"ElectricFire\",\"520\",\"50\",\"65\",\"107\",\"105\",\"107\",\"86\"\\n\"479\",\"RotomWash Rotom\",\"ElectricWater\",\"520\",\"50\",\"65\",\"107\",\"105\",\"107\",\"86\"\\n\"479\",\"RotomFrost Rotom\",\"ElectricIce\",\"520\",\"50\",\"65\",\"107\",\"105\",\"107\",\"86\"\\n\"479\",\"RotomFan Rotom\",\"ElectricFlying\",\"520\",\"50\",\"65\",\"107\",\"105\",\"107\",\"86\"\\n\"479\",\"RotomMow Rotom\",\"ElectricGrass\",\"520\",\"50\",\"65\",\"107\",\"105\",\"107\",\"86\"\\n\"480\",\"Uxie\",\"Psychic\",\"580\",\"75\",\"75\",\"130\",\"75\",\"130\",\"95\"\\n\"481\",\"Mesprit\",\"Psychic\",\"580\",\"80\",\"105\",\"105\",\"105\",\"105\",\"80\"\\n\"482\",\"Azelf\",\"Psychic\",\"580\",\"75\",\"125\",\"70\",\"125\",\"70\",\"115\"\\n\"483\",\"Dialga\",\"SteelDragon\",\"680\",\"100\",\"120\",\"120\",\"150\",\"100\",\"90\"\\n\"484\",\"Palkia\",\"WaterDragon\",\"680\",\"90\",\"120\",\"100\",\"150\",\"120\",\"100\"\\n\"485\",\"Heatran\",\"FireSteel\",\"600\",\"91\",\"90\",\"106\",\"130\",\"106\",\"77\"\\n\"486\",\"Regigigas\",\"Normal\",\"670\",\"110\",\"160\",\"110\",\"80\",\"110\",\"100\"\\n\"487\",\"GiratinaAltered Forme\",\"GhostDragon\",\"680\",\"150\",\"100\",\"120\",\"100\",\"120\",\"90\"\\n\"487\",\"GiratinaOrigin Forme\",\"GhostDragon\",\"680\",\"150\",\"120\",\"100\",\"120\",\"100\",\"90\"\\n\"488\",\"Cresselia\",\"Psychic\",\"600\",\"120\",\"70\",\"120\",\"75\",\"130\",\"85\"\\n\"489\",\"Phione\",\"Water\",\"480\",\"80\",\"80\",\"80\",\"80\",\"80\",\"80\"\\n\"490\",\"Manaphy\",\"Water\",\"600\",\"100\",\"100\",\"100\",\"100\",\"100\",\"100\"\\n\"491\",\"Darkrai\",\"Dark\",\"600\",\"70\",\"90\",\"90\",\"135\",\"90\",\"125\"\\n\"492\",\"ShayminLand Forme\",\"Grass\",\"600\",\"100\",\"100\",\"100\",\"100\",\"100\",\"100\"\\n\"492\",\"ShayminSky Forme\",\"GrassFlying\",\"600\",\"100\",\"103\",\"75\",\"120\",\"75\",\"127\"\\n\"493\",\"Arceus\",\"Normal\",\"720\",\"120\",\"120\",\"120\",\"120\",\"120\",\"120\"\\n\"494\",\"Victini\",\"PsychicFire\",\"600\",\"100\",\"100\",\"100\",\"100\",\"100\",\"100\"\\n\"495\",\"Snivy\",\"Grass\",\"308\",\"45\",\"45\",\"55\",\"45\",\"55\",\"63\"\\n\"496\",\"Servine\",\"Grass\",\"413\",\"60\",\"60\",\"75\",\"60\",\"75\",\"83\"\\n\"497\",\"Serperior\",\"Grass\",\"528\",\"75\",\"75\",\"95\",\"75\",\"95\",\"113\"\\n\"498\",\"Tepig\",\"Fire\",\"308\",\"65\",\"63\",\"45\",\"45\",\"45\",\"45\"\\n\"499\",\"Pignite\",\"FireFighting\",\"418\",\"90\",\"93\",\"55\",\"70\",\"55\",\"55\"\\n\"500\",\"Emboar\",\"FireFighting\",\"528\",\"110\",\"123\",\"65\",\"100\",\"65\",\"65\"\\n\"501\",\"Oshawott\",\"Water\",\"308\",\"55\",\"55\",\"45\",\"63\",\"45\",\"45\"\\n\"502\",\"Dewott\",\"Water\",\"413\",\"75\",\"75\",\"60\",\"83\",\"60\",\"60\"\\n\"503\",\"Samurott\",\"Water\",\"528\",\"95\",\"100\",\"85\",\"108\",\"70\",\"70\"\\n\"504\",\"Patrat\",\"Normal\",\"255\",\"45\",\"55\",\"39\",\"35\",\"39\",\"42\"\\n\"505\",\"Watchog\",\"Normal\",\"420\",\"60\",\"85\",\"69\",\"60\",\"69\",\"77\"\\n\"506\",\"Lillipup\",\"Normal\",\"275\",\"45\",\"60\",\"45\",\"25\",\"45\",\"55\"\\n\"507\",\"Herdier\",\"Normal\",\"370\",\"65\",\"80\",\"65\",\"35\",\"65\",\"60\"\\n\"508\",\"Stoutland\",\"Normal\",\"500\",\"85\",\"110\",\"90\",\"45\",\"90\",\"80\"\\n\"509\",\"Purrloin\",\"Dark\",\"281\",\"41\",\"50\",\"37\",\"50\",\"37\",\"66\"\\n\"510\",\"Liepard\",\"Dark\",\"446\",\"64\",\"88\",\"50\",\"88\",\"50\",\"106\"\\n\"511\",\"Pansage\",\"Grass\",\"316\",\"50\",\"53\",\"48\",\"53\",\"48\",\"64\"\\n\"512\",\"Simisage\",\"Grass\",\"498\",\"75\",\"98\",\"63\",\"98\",\"63\",\"101\"\\n\"513\",\"Pansear\",\"Fire\",\"316\",\"50\",\"53\",\"48\",\"53\",\"48\",\"64\"\\n\"514\",\"Simisear\",\"Fire\",\"498\",\"75\",\"98\",\"63\",\"98\",\"63\",\"101\"\\n\"515\",\"Panpour\",\"Water\",\"316\",\"50\",\"53\",\"48\",\"53\",\"48\",\"64\"\\n\"516\",\"Simipour\",\"Water\",\"498\",\"75\",\"98\",\"63\",\"98\",\"63\",\"101\"\\n\"517\",\"Munna\",\"Psychic\",\"292\",\"76\",\"25\",\"45\",\"67\",\"55\",\"24\"\\n\"518\",\"Musharna\",\"Psychic\",\"487\",\"116\",\"55\",\"85\",\"107\",\"95\",\"29\"\\n\"519\",\"Pidove\",\"NormalFlying\",\"264\",\"50\",\"55\",\"50\",\"36\",\"30\",\"43\"\\n\"520\",\"Tranquill\",\"NormalFlying\",\"358\",\"62\",\"77\",\"62\",\"50\",\"42\",\"65\"\\n\"521\",\"Unfezant\",\"NormalFlying\",\"488\",\"80\",\"115\",\"80\",\"65\",\"55\",\"93\"\\n\"522\",\"Blitzle\",\"Electric\",\"295\",\"45\",\"60\",\"32\",\"50\",\"32\",\"76\"\\n\"523\",\"Zebstrika\",\"Electric\",\"497\",\"75\",\"100\",\"63\",\"80\",\"63\",\"116\"\\n\"524\",\"Roggenrola\",\"Rock\",\"280\",\"55\",\"75\",\"85\",\"25\",\"25\",\"15\"\\n\"525\",\"Boldore\",\"Rock\",\"390\",\"70\",\"105\",\"105\",\"50\",\"40\",\"20\"\\n\"526\",\"Gigalith\",\"Rock\",\"515\",\"85\",\"135\",\"130\",\"60\",\"80\",\"25\"\\n\"527\",\"Woobat\",\"PsychicFlying\",\"313\",\"55\",\"45\",\"43\",\"55\",\"43\",\"72\"\\n\"528\",\"Swoobat\",\"PsychicFlying\",\"425\",\"67\",\"57\",\"55\",\"77\",\"55\",\"114\"\\n\"529\",\"Drilbur\",\"Ground\",\"328\",\"60\",\"85\",\"40\",\"30\",\"45\",\"68\"\\n\"530\",\"Excadrill\",\"GroundSteel\",\"508\",\"110\",\"135\",\"60\",\"50\",\"65\",\"88\"\\n\"531\",\"Audino\",\"Normal\",\"445\",\"103\",\"60\",\"86\",\"60\",\"86\",\"50\"\\n\"531\",\"AudinoMega Audino\",\"NormalFairy\",\"545\",\"103\",\"60\",\"126\",\"80\",\"126\",\"50\"\\n\"532\",\"Timburr\",\"Fighting\",\"305\",\"75\",\"80\",\"55\",\"25\",\"35\",\"35\"\\n\"533\",\"Gurdurr\",\"Fighting\",\"405\",\"85\",\"105\",\"85\",\"40\",\"50\",\"40\"\\n\"534\",\"Conkeldurr\",\"Fighting\",\"505\",\"105\",\"140\",\"95\",\"55\",\"65\",\"45\"\\n\"535\",\"Tympole\",\"Water\",\"294\",\"50\",\"50\",\"40\",\"50\",\"40\",\"64\"\\n\"536\",\"Palpitoad\",\"WaterGround\",\"384\",\"75\",\"65\",\"55\",\"65\",\"55\",\"69\"\\n\"537\",\"Seismitoad\",\"WaterGround\",\"509\",\"105\",\"95\",\"75\",\"85\",\"75\",\"74\"\\n\"538\",\"Throh\",\"Fighting\",\"465\",\"120\",\"100\",\"85\",\"30\",\"85\",\"45\"\\n\"539\",\"Sawk\",\"Fighting\",\"465\",\"75\",\"125\",\"75\",\"30\",\"75\",\"85\"\\n\"540\",\"Sewaddle\",\"BugGrass\",\"310\",\"45\",\"53\",\"70\",\"40\",\"60\",\"42\"\\n\"541\",\"Swadloon\",\"BugGrass\",\"380\",\"55\",\"63\",\"90\",\"50\",\"80\",\"42\"\\n\"542\",\"Leavanny\",\"BugGrass\",\"500\",\"75\",\"103\",\"80\",\"70\",\"80\",\"92\"\\n\"543\",\"Venipede\",\"BugPoison\",\"260\",\"30\",\"45\",\"59\",\"30\",\"39\",\"57\"\\n\"544\",\"Whirlipede\",\"BugPoison\",\"360\",\"40\",\"55\",\"99\",\"40\",\"79\",\"47\"\\n\"545\",\"Scolipede\",\"BugPoison\",\"485\",\"60\",\"100\",\"89\",\"55\",\"69\",\"112\"\\n\"546\",\"Cottonee\",\"GrassFairy\",\"280\",\"40\",\"27\",\"60\",\"37\",\"50\",\"66\"\\n\"547\",\"Whimsicott\",\"GrassFairy\",\"480\",\"60\",\"67\",\"85\",\"77\",\"75\",\"116\"\\n\"548\",\"Petilil\",\"Grass\",\"280\",\"45\",\"35\",\"50\",\"70\",\"50\",\"30\"\\n\"549\",\"Lilligant\",\"Grass\",\"480\",\"70\",\"60\",\"75\",\"110\",\"75\",\"90\"\\n\"550\",\"Basculin\",\"Water\",\"460\",\"70\",\"92\",\"65\",\"80\",\"55\",\"98\"\\n\"551\",\"Sandile\",\"GroundDark\",\"292\",\"50\",\"72\",\"35\",\"35\",\"35\",\"65\"\\n\"552\",\"Krokorok\",\"GroundDark\",\"351\",\"60\",\"82\",\"45\",\"45\",\"45\",\"74\"\\n\"553\",\"Krookodile\",\"GroundDark\",\"519\",\"95\",\"117\",\"80\",\"65\",\"70\",\"92\"\\n\"554\",\"Darumaka\",\"Fire\",\"315\",\"70\",\"90\",\"45\",\"15\",\"45\",\"50\"\\n\"555\",\"DarmanitanStandard Mode\",\"Fire\",\"480\",\"105\",\"140\",\"55\",\"30\",\"55\",\"95\"\\n\"555\",\"DarmanitanZen Mode\",\"FirePsychic\",\"540\",\"105\",\"30\",\"105\",\"140\",\"105\",\"55\"\\n\"556\",\"Maractus\",\"Grass\",\"461\",\"75\",\"86\",\"67\",\"106\",\"67\",\"60\"\\n\"557\",\"Dwebble\",\"BugRock\",\"325\",\"50\",\"65\",\"85\",\"35\",\"35\",\"55\"\\n\"558\",\"Crustle\",\"BugRock\",\"475\",\"70\",\"95\",\"125\",\"65\",\"75\",\"45\"\\n\"559\",\"Scraggy\",\"DarkFighting\",\"348\",\"50\",\"75\",\"70\",\"35\",\"70\",\"48\"\\n\"560\",\"Scrafty\",\"DarkFighting\",\"488\",\"65\",\"90\",\"115\",\"45\",\"115\",\"58\"\\n\"561\",\"Sigilyph\",\"PsychicFlying\",\"490\",\"72\",\"58\",\"80\",\"103\",\"80\",\"97\"\\n\"562\",\"Yamask\",\"Ghost\",\"303\",\"38\",\"30\",\"85\",\"55\",\"65\",\"30\"\\n\"563\",\"Cofagrigus\",\"Ghost\",\"483\",\"58\",\"50\",\"145\",\"95\",\"105\",\"30\"\\n\"564\",\"Tirtouga\",\"WaterRock\",\"355\",\"54\",\"78\",\"103\",\"53\",\"45\",\"22\"\\n\"565\",\"Carracosta\",\"WaterRock\",\"495\",\"74\",\"108\",\"133\",\"83\",\"65\",\"32\"\\n\"566\",\"Archen\",\"RockFlying\",\"401\",\"55\",\"112\",\"45\",\"74\",\"45\",\"70\"\\n\"567\",\"Archeops\",\"RockFlying\",\"567\",\"75\",\"140\",\"65\",\"112\",\"65\",\"110\"\\n\"568\",\"Trubbish\",\"Poison\",\"329\",\"50\",\"50\",\"62\",\"40\",\"62\",\"65\"\\n\"569\",\"Garbodor\",\"Poison\",\"474\",\"80\",\"95\",\"82\",\"60\",\"82\",\"75\"\\n\"570\",\"Zorua\",\"Dark\",\"330\",\"40\",\"65\",\"40\",\"80\",\"40\",\"65\"\\n\"571\",\"Zoroark\",\"Dark\",\"510\",\"60\",\"105\",\"60\",\"120\",\"60\",\"105\"\\n\"572\",\"Minccino\",\"Normal\",\"300\",\"55\",\"50\",\"40\",\"40\",\"40\",\"75\"\\n\"573\",\"Cinccino\",\"Normal\",\"470\",\"75\",\"95\",\"60\",\"65\",\"60\",\"115\"\\n\"574\",\"Gothita\",\"Psychic\",\"290\",\"45\",\"30\",\"50\",\"55\",\"65\",\"45\"\\n\"575\",\"Gothorita\",\"Psychic\",\"390\",\"60\",\"45\",\"70\",\"75\",\"85\",\"55\"\\n\"576\",\"Gothitelle\",\"Psychic\",\"490\",\"70\",\"55\",\"95\",\"95\",\"110\",\"65\"\\n\"577\",\"Solosis\",\"Psychic\",\"290\",\"45\",\"30\",\"40\",\"105\",\"50\",\"20\"\\n\"578\",\"Duosion\",\"Psychic\",\"370\",\"65\",\"40\",\"50\",\"125\",\"60\",\"30\"\\n\"579\",\"Reuniclus\",\"Psychic\",\"490\",\"110\",\"65\",\"75\",\"125\",\"85\",\"30\"\\n\"580\",\"Ducklett\",\"WaterFlying\",\"305\",\"62\",\"44\",\"50\",\"44\",\"50\",\"55\"\\n\"581\",\"Swanna\",\"WaterFlying\",\"473\",\"75\",\"87\",\"63\",\"87\",\"63\",\"98\"\\n\"582\",\"Vanillite\",\"Ice\",\"305\",\"36\",\"50\",\"50\",\"65\",\"60\",\"44\"\\n\"583\",\"Vanillish\",\"Ice\",\"395\",\"51\",\"65\",\"65\",\"80\",\"75\",\"59\"\\n\"584\",\"Vanilluxe\",\"Ice\",\"535\",\"71\",\"95\",\"85\",\"110\",\"95\",\"79\"\\n\"585\",\"Deerling\",\"NormalGrass\",\"335\",\"60\",\"60\",\"50\",\"40\",\"50\",\"75\"\\n\"586\",\"Sawsbuck\",\"NormalGrass\",\"475\",\"80\",\"100\",\"70\",\"60\",\"70\",\"95\"\\n\"587\",\"Emolga\",\"ElectricFlying\",\"428\",\"55\",\"75\",\"60\",\"75\",\"60\",\"103\"\\n\"588\",\"Karrablast\",\"Bug\",\"315\",\"50\",\"75\",\"45\",\"40\",\"45\",\"60\"\\n\"589\",\"Escavalier\",\"BugSteel\",\"495\",\"70\",\"135\",\"105\",\"60\",\"105\",\"20\"\\n\"590\",\"Foongus\",\"GrassPoison\",\"294\",\"69\",\"55\",\"45\",\"55\",\"55\",\"15\"\\n\"591\",\"Amoonguss\",\"GrassPoison\",\"464\",\"114\",\"85\",\"70\",\"85\",\"80\",\"30\"\\n\"592\",\"Frillish\",\"WaterGhost\",\"335\",\"55\",\"40\",\"50\",\"65\",\"85\",\"40\"\\n\"593\",\"Jellicent\",\"WaterGhost\",\"480\",\"100\",\"60\",\"70\",\"85\",\"105\",\"60\"\\n\"594\",\"Alomomola\",\"Water\",\"470\",\"165\",\"75\",\"80\",\"40\",\"45\",\"65\"\\n\"595\",\"Joltik\",\"BugElectric\",\"319\",\"50\",\"47\",\"50\",\"57\",\"50\",\"65\"\\n\"596\",\"Galvantula\",\"BugElectric\",\"472\",\"70\",\"77\",\"60\",\"97\",\"60\",\"108\"\\n\"597\",\"Ferroseed\",\"GrassSteel\",\"305\",\"44\",\"50\",\"91\",\"24\",\"86\",\"10\"\\n\"598\",\"Ferrothorn\",\"GrassSteel\",\"489\",\"74\",\"94\",\"131\",\"54\",\"116\",\"20\"\\n\"599\",\"Klink\",\"Steel\",\"300\",\"40\",\"55\",\"70\",\"45\",\"60\",\"30\"\\n\"600\",\"Klang\",\"Steel\",\"440\",\"60\",\"80\",\"95\",\"70\",\"85\",\"50\"\\n\"601\",\"Klinklang\",\"Steel\",\"520\",\"60\",\"100\",\"115\",\"70\",\"85\",\"90\"\\n\"602\",\"Tynamo\",\"Electric\",\"275\",\"35\",\"55\",\"40\",\"45\",\"40\",\"60\"\\n\"603\",\"Eelektrik\",\"Electric\",\"405\",\"65\",\"85\",\"70\",\"75\",\"70\",\"40\"\\n\"604\",\"Eelektross\",\"Electric\",\"515\",\"85\",\"115\",\"80\",\"105\",\"80\",\"50\"\\n\"605\",\"Elgyem\",\"Psychic\",\"335\",\"55\",\"55\",\"55\",\"85\",\"55\",\"30\"\\n\"606\",\"Beheeyem\",\"Psychic\",\"485\",\"75\",\"75\",\"75\",\"125\",\"95\",\"40\"\\n\"607\",\"Litwick\",\"GhostFire\",\"275\",\"50\",\"30\",\"55\",\"65\",\"55\",\"20\"\\n\"608\",\"Lampent\",\"GhostFire\",\"370\",\"60\",\"40\",\"60\",\"95\",\"60\",\"55\"\\n\"609\",\"Chandelure\",\"GhostFire\",\"520\",\"60\",\"55\",\"90\",\"145\",\"90\",\"80\"\\n\"610\",\"Axew\",\"Dragon\",\"320\",\"46\",\"87\",\"60\",\"30\",\"40\",\"57\"\\n\"611\",\"Fraxure\",\"Dragon\",\"410\",\"66\",\"117\",\"70\",\"40\",\"50\",\"67\"\\n\"612\",\"Haxorus\",\"Dragon\",\"540\",\"76\",\"147\",\"90\",\"60\",\"70\",\"97\"\\n\"613\",\"Cubchoo\",\"Ice\",\"305\",\"55\",\"70\",\"40\",\"60\",\"40\",\"40\"\\n\"614\",\"Beartic\",\"Ice\",\"485\",\"95\",\"110\",\"80\",\"70\",\"80\",\"50\"\\n\"615\",\"Cryogonal\",\"Ice\",\"485\",\"70\",\"50\",\"30\",\"95\",\"135\",\"105\"\\n\"616\",\"Shelmet\",\"Bug\",\"305\",\"50\",\"40\",\"85\",\"40\",\"65\",\"25\"\\n\"617\",\"Accelgor\",\"Bug\",\"495\",\"80\",\"70\",\"40\",\"100\",\"60\",\"145\"\\n\"618\",\"Stunfisk\",\"GroundElectric\",\"471\",\"109\",\"66\",\"84\",\"81\",\"99\",\"32\"\\n\"619\",\"Mienfoo\",\"Fighting\",\"350\",\"45\",\"85\",\"50\",\"55\",\"50\",\"65\"\\n\"620\",\"Mienshao\",\"Fighting\",\"510\",\"65\",\"125\",\"60\",\"95\",\"60\",\"105\"\\n\"621\",\"Druddigon\",\"Dragon\",\"485\",\"77\",\"120\",\"90\",\"60\",\"90\",\"48\"\\n\"622\",\"Golett\",\"GroundGhost\",\"303\",\"59\",\"74\",\"50\",\"35\",\"50\",\"35\"\\n\"623\",\"Golurk\",\"GroundGhost\",\"483\",\"89\",\"124\",\"80\",\"55\",\"80\",\"55\"\\n\"624\",\"Pawniard\",\"DarkSteel\",\"340\",\"45\",\"85\",\"70\",\"40\",\"40\",\"60\"\\n\"625\",\"Bisharp\",\"DarkSteel\",\"490\",\"65\",\"125\",\"100\",\"60\",\"70\",\"70\"\\n\"626\",\"Bouffalant\",\"Normal\",\"490\",\"95\",\"110\",\"95\",\"40\",\"95\",\"55\"\\n\"627\",\"Rufflet\",\"NormalFlying\",\"350\",\"70\",\"83\",\"50\",\"37\",\"50\",\"60\"\\n\"628\",\"Braviary\",\"NormalFlying\",\"510\",\"100\",\"123\",\"75\",\"57\",\"75\",\"80\"\\n\"629\",\"Vullaby\",\"DarkFlying\",\"370\",\"70\",\"55\",\"75\",\"45\",\"65\",\"60\"\\n\"630\",\"Mandibuzz\",\"DarkFlying\",\"510\",\"110\",\"65\",\"105\",\"55\",\"95\",\"80\"\\n\"631\",\"Heatmor\",\"Fire\",\"484\",\"85\",\"97\",\"66\",\"105\",\"66\",\"65\"\\n\"632\",\"Durant\",\"BugSteel\",\"484\",\"58\",\"109\",\"112\",\"48\",\"48\",\"109\"\\n\"633\",\"Deino\",\"DarkDragon\",\"300\",\"52\",\"65\",\"50\",\"45\",\"50\",\"38\"\\n\"634\",\"Zweilous\",\"DarkDragon\",\"420\",\"72\",\"85\",\"70\",\"65\",\"70\",\"58\"\\n\"635\",\"Hydreigon\",\"DarkDragon\",\"600\",\"92\",\"105\",\"90\",\"125\",\"90\",\"98\"\\n\"636\",\"Larvesta\",\"BugFire\",\"360\",\"55\",\"85\",\"55\",\"50\",\"55\",\"60\"\\n\"637\",\"Volcarona\",\"BugFire\",\"550\",\"85\",\"60\",\"65\",\"135\",\"105\",\"100\"\\n\"638\",\"Cobalion\",\"SteelFighting\",\"580\",\"91\",\"90\",\"129\",\"90\",\"72\",\"108\"\\n\"639\",\"Terrakion\",\"RockFighting\",\"580\",\"91\",\"129\",\"90\",\"72\",\"90\",\"108\"\\n\"640\",\"Virizion\",\"GrassFighting\",\"580\",\"91\",\"90\",\"72\",\"90\",\"129\",\"108\"\\n\"641\",\"TornadusIncarnate Forme\",\"Flying\",\"580\",\"79\",\"115\",\"70\",\"125\",\"80\",\"111\"\\n\"641\",\"TornadusTherian Forme\",\"Flying\",\"580\",\"79\",\"100\",\"80\",\"110\",\"90\",\"121\"\\n\"642\",\"ThundurusIncarnate Forme\",\"ElectricFlying\",\"580\",\"79\",\"115\",\"70\",\"125\",\"80\",\"111\"\\n\"642\",\"ThundurusTherian Forme\",\"ElectricFlying\",\"580\",\"79\",\"105\",\"70\",\"145\",\"80\",\"101\"\\n\"643\",\"Reshiram\",\"DragonFire\",\"680\",\"100\",\"120\",\"100\",\"150\",\"120\",\"90\"\\n\"644\",\"Zekrom\",\"DragonElectric\",\"680\",\"100\",\"150\",\"120\",\"120\",\"100\",\"90\"\\n\"645\",\"LandorusIncarnate Forme\",\"GroundFlying\",\"600\",\"89\",\"125\",\"90\",\"115\",\"80\",\"101\"\\n\"645\",\"LandorusTherian Forme\",\"GroundFlying\",\"600\",\"89\",\"145\",\"90\",\"105\",\"80\",\"91\"\\n\"646\",\"Kyurem\",\"DragonIce\",\"660\",\"125\",\"130\",\"90\",\"130\",\"90\",\"95\"\\n\"646\",\"KyuremBlack Kyurem\",\"DragonIce\",\"700\",\"125\",\"170\",\"100\",\"120\",\"90\",\"95\"\\n\"646\",\"KyuremWhite Kyurem\",\"DragonIce\",\"700\",\"125\",\"120\",\"90\",\"170\",\"100\",\"95\"\\n\"647\",\"KeldeoOrdinary Forme\",\"WaterFighting\",\"580\",\"91\",\"72\",\"90\",\"129\",\"90\",\"108\"\\n\"647\",\"KeldeoResolute Forme\",\"WaterFighting\",\"580\",\"91\",\"72\",\"90\",\"129\",\"90\",\"108\"\\n\"648\",\"MeloettaAria Forme\",\"NormalPsychic\",\"600\",\"100\",\"77\",\"77\",\"128\",\"128\",\"90\"\\n\"648\",\"MeloettaPirouette Forme\",\"NormalFighting\",\"600\",\"100\",\"128\",\"90\",\"77\",\"77\",\"128\"\\n\"649\",\"Genesect\",\"BugSteel\",\"600\",\"71\",\"120\",\"95\",\"120\",\"95\",\"99\"\\n\"650\",\"Chespin\",\"Grass\",\"313\",\"56\",\"61\",\"65\",\"48\",\"45\",\"38\"\\n\"651\",\"Quilladin\",\"Grass\",\"405\",\"61\",\"78\",\"95\",\"56\",\"58\",\"57\"\\n\"652\",\"Chesnaught\",\"GrassFighting\",\"530\",\"88\",\"107\",\"122\",\"74\",\"75\",\"64\"\\n\"653\",\"Fennekin\",\"Fire\",\"307\",\"40\",\"45\",\"40\",\"62\",\"60\",\"60\"\\n\"654\",\"Braixen\",\"Fire\",\"409\",\"59\",\"59\",\"58\",\"90\",\"70\",\"73\"\\n\"655\",\"Delphox\",\"FirePsychic\",\"534\",\"75\",\"69\",\"72\",\"114\",\"100\",\"104\"\\n\"656\",\"Froakie\",\"Water\",\"314\",\"41\",\"56\",\"40\",\"62\",\"44\",\"71\"\\n\"657\",\"Frogadier\",\"Water\",\"405\",\"54\",\"63\",\"52\",\"83\",\"56\",\"97\"\\n\"658\",\"Greninja\",\"WaterDark\",\"530\",\"72\",\"95\",\"67\",\"103\",\"71\",\"122\"\\n\"659\",\"Bunnelby\",\"Normal\",\"237\",\"38\",\"36\",\"38\",\"32\",\"36\",\"57\"\\n\"660\",\"Diggersby\",\"NormalGround\",\"423\",\"85\",\"56\",\"77\",\"50\",\"77\",\"78\"\\n\"661\",\"Fletchling\",\"NormalFlying\",\"278\",\"45\",\"50\",\"43\",\"40\",\"38\",\"62\"\\n\"662\",\"Fletchinder\",\"FireFlying\",\"382\",\"62\",\"73\",\"55\",\"56\",\"52\",\"84\"\\n\"663\",\"Talonflame\",\"FireFlying\",\"499\",\"78\",\"81\",\"71\",\"74\",\"69\",\"126\"\\n\"664\",\"Scatterbug\",\"Bug\",\"200\",\"38\",\"35\",\"40\",\"27\",\"25\",\"35\"\\n\"665\",\"Spewpa\",\"Bug\",\"213\",\"45\",\"22\",\"60\",\"27\",\"30\",\"29\"\\n\"666\",\"Vivillon\",\"BugFlying\",\"411\",\"80\",\"52\",\"50\",\"90\",\"50\",\"89\"\\n\"667\",\"Litleo\",\"FireNormal\",\"369\",\"62\",\"50\",\"58\",\"73\",\"54\",\"72\"\\n\"668\",\"Pyroar\",\"FireNormal\",\"507\",\"86\",\"68\",\"72\",\"109\",\"66\",\"106\"\\n\"669\",\"Flabebe\",\"Fairy\",\"303\",\"44\",\"38\",\"39\",\"61\",\"79\",\"42\"\\n\"670\",\"Floette\",\"Fairy\",\"371\",\"54\",\"45\",\"47\",\"75\",\"98\",\"52\"\\n\"671\",\"Florges\",\"Fairy\",\"552\",\"78\",\"65\",\"68\",\"112\",\"154\",\"75\"\\n\"672\",\"Skiddo\",\"Grass\",\"350\",\"66\",\"65\",\"48\",\"62\",\"57\",\"52\"\\n\"673\",\"Gogoat\",\"Grass\",\"531\",\"123\",\"100\",\"62\",\"97\",\"81\",\"68\"\\n\"674\",\"Pancham\",\"Fighting\",\"348\",\"67\",\"82\",\"62\",\"46\",\"48\",\"43\"\\n\"675\",\"Pangoro\",\"FightingDark\",\"495\",\"95\",\"124\",\"78\",\"69\",\"71\",\"58\"\\n\"676\",\"Furfrou\",\"Normal\",\"472\",\"75\",\"80\",\"60\",\"65\",\"90\",\"102\"\\n\"677\",\"Espurr\",\"Psychic\",\"355\",\"62\",\"48\",\"54\",\"63\",\"60\",\"68\"\\n\"678\",\"MeowsticMale\",\"Psychic\",\"466\",\"74\",\"48\",\"76\",\"83\",\"81\",\"104\"\\n\"678\",\"MeowsticFemale\",\"Psychic\",\"466\",\"74\",\"48\",\"76\",\"83\",\"81\",\"104\"\\n\"679\",\"Honedge\",\"SteelGhost\",\"325\",\"45\",\"80\",\"100\",\"35\",\"37\",\"28\"\\n\"680\",\"Doublade\",\"SteelGhost\",\"448\",\"59\",\"110\",\"150\",\"45\",\"49\",\"35\"\\n\"681\",\"AegislashBlade Forme\",\"SteelGhost\",\"520\",\"60\",\"150\",\"50\",\"150\",\"50\",\"60\"\\n\"681\",\"AegislashShield Forme\",\"SteelGhost\",\"520\",\"60\",\"50\",\"150\",\"50\",\"150\",\"60\"\\n\"682\",\"Spritzee\",\"Fairy\",\"341\",\"78\",\"52\",\"60\",\"63\",\"65\",\"23\"\\n\"683\",\"Aromatisse\",\"Fairy\",\"462\",\"101\",\"72\",\"72\",\"99\",\"89\",\"29\"\\n\"684\",\"Swirlix\",\"Fairy\",\"341\",\"62\",\"48\",\"66\",\"59\",\"57\",\"49\"\\n\"685\",\"Slurpuff\",\"Fairy\",\"480\",\"82\",\"80\",\"86\",\"85\",\"75\",\"72\"\\n\"686\",\"Inkay\",\"DarkPsychic\",\"288\",\"53\",\"54\",\"53\",\"37\",\"46\",\"45\"\\n\"687\",\"Malamar\",\"DarkPsychic\",\"482\",\"86\",\"92\",\"88\",\"68\",\"75\",\"73\"\\n\"688\",\"Binacle\",\"RockWater\",\"306\",\"42\",\"52\",\"67\",\"39\",\"56\",\"50\"\\n\"689\",\"Barbaracle\",\"RockWater\",\"500\",\"72\",\"105\",\"115\",\"54\",\"86\",\"68\"\\n\"690\",\"Skrelp\",\"PoisonWater\",\"320\",\"50\",\"60\",\"60\",\"60\",\"60\",\"30\"\\n\"691\",\"Dragalge\",\"PoisonDragon\",\"494\",\"65\",\"75\",\"90\",\"97\",\"123\",\"44\"\\n\"692\",\"Clauncher\",\"Water\",\"330\",\"50\",\"53\",\"62\",\"58\",\"63\",\"44\"\\n\"693\",\"Clawitzer\",\"Water\",\"500\",\"71\",\"73\",\"88\",\"120\",\"89\",\"59\"\\n\"694\",\"Helioptile\",\"ElectricNormal\",\"289\",\"44\",\"38\",\"33\",\"61\",\"43\",\"70\"\\n\"695\",\"Heliolisk\",\"ElectricNormal\",\"481\",\"62\",\"55\",\"52\",\"109\",\"94\",\"109\"\\n\"696\",\"Tyrunt\",\"RockDragon\",\"362\",\"58\",\"89\",\"77\",\"45\",\"45\",\"48\"\\n\"697\",\"Tyrantrum\",\"RockDragon\",\"521\",\"82\",\"121\",\"119\",\"69\",\"59\",\"71\"\\n\"698\",\"Amaura\",\"RockIce\",\"362\",\"77\",\"59\",\"50\",\"67\",\"63\",\"46\"\\n\"699\",\"Aurorus\",\"RockIce\",\"521\",\"123\",\"77\",\"72\",\"99\",\"92\",\"58\"\\n\"700\",\"Sylveon\",\"Fairy\",\"525\",\"95\",\"65\",\"65\",\"110\",\"130\",\"60\"\\n\"701\",\"Hawlucha\",\"FightingFlying\",\"500\",\"78\",\"92\",\"75\",\"74\",\"63\",\"118\"\\n\"702\",\"Dedenne\",\"ElectricFairy\",\"431\",\"67\",\"58\",\"57\",\"81\",\"67\",\"101\"\\n\"703\",\"Carbink\",\"RockFairy\",\"500\",\"50\",\"50\",\"150\",\"50\",\"150\",\"50\"\\n\"704\",\"Goomy\",\"Dragon\",\"300\",\"45\",\"50\",\"35\",\"55\",\"75\",\"40\"\\n\"705\",\"Sliggoo\",\"Dragon\",\"452\",\"68\",\"75\",\"53\",\"83\",\"113\",\"60\"\\n\"706\",\"Goodra\",\"Dragon\",\"600\",\"90\",\"100\",\"70\",\"110\",\"150\",\"80\"\\n\"707\",\"Klefki\",\"SteelFairy\",\"470\",\"57\",\"80\",\"91\",\"80\",\"87\",\"75\"\\n\"708\",\"Phantump\",\"GhostGrass\",\"309\",\"43\",\"70\",\"48\",\"50\",\"60\",\"38\"\\n\"709\",\"Trevenant\",\"GhostGrass\",\"474\",\"85\",\"110\",\"76\",\"65\",\"82\",\"56\"\\n\"710\",\"PumpkabooAverage Size\",\"GhostGrass\",\"335\",\"49\",\"66\",\"70\",\"44\",\"55\",\"51\"\\n\"710\",\"PumpkabooSmall Size\",\"GhostGrass\",\"335\",\"44\",\"66\",\"70\",\"44\",\"55\",\"56\"\\n\"710\",\"PumpkabooLarge Size\",\"GhostGrass\",\"335\",\"54\",\"66\",\"70\",\"44\",\"55\",\"46\"\\n\"710\",\"PumpkabooSuper Size\",\"GhostGrass\",\"335\",\"59\",\"66\",\"70\",\"44\",\"55\",\"41\"\\n\"711\",\"GourgeistAverage Size\",\"GhostGrass\",\"494\",\"65\",\"90\",\"122\",\"58\",\"75\",\"84\"\\n\"711\",\"GourgeistSmall Size\",\"GhostGrass\",\"494\",\"55\",\"85\",\"122\",\"58\",\"75\",\"99\"\\n\"711\",\"GourgeistLarge Size\",\"GhostGrass\",\"494\",\"75\",\"95\",\"122\",\"58\",\"75\",\"69\"\\n\"711\",\"GourgeistSuper Size\",\"GhostGrass\",\"494\",\"85\",\"100\",\"122\",\"58\",\"75\",\"54\"\\n\"712\",\"Bergmite\",\"Ice\",\"304\",\"55\",\"69\",\"85\",\"32\",\"35\",\"28\"\\n\"713\",\"Avalugg\",\"Ice\",\"514\",\"95\",\"117\",\"184\",\"44\",\"46\",\"28\"\\n\"714\",\"Noibat\",\"FlyingDragon\",\"245\",\"40\",\"30\",\"35\",\"45\",\"40\",\"55\"\\n\"715\",\"Noivern\",\"FlyingDragon\",\"535\",\"85\",\"70\",\"80\",\"97\",\"80\",\"123\"\\n\"716\",\"Xerneas\",\"Fairy\",\"680\",\"126\",\"131\",\"95\",\"131\",\"98\",\"99\"\\n\"717\",\"Yveltal\",\"DarkFlying\",\"680\",\"126\",\"131\",\"95\",\"131\",\"98\",\"99\"\\n\"718\",\"Zygarde Forme\",\"DragonGround\",\"600\",\"108\",\"100\",\"121\",\"81\",\"95\",\"95\"\\n\"719\",\"Diancie\",\"RockFairy\",\"600\",\"50\",\"100\",\"150\",\"100\",\"150\",\"50\"\\n\"719\",\"DiancieMega Diancie\",\"RockFairy\",\"700\",\"50\",\"160\",\"110\",\"160\",\"110\",\"110\"\\n\"720\",\"HoopaHoopa Confined\",\"PsychicGhost\",\"600\",\"80\",\"110\",\"60\",\"150\",\"130\",\"70\"\\n\"720\",\"HoopaHoopa Unbound\",\"PsychicDark\",\"680\",\"80\",\"160\",\"60\",\"170\",\"130\",\"80\"\\n\"721\",\"Volcanion\",\"FireWater\",\"600\",\"80\",\"110\",\"120\",\"130\",\"90\",\"70\"'"
      ]
     },
     "execution_count": 26,
     "metadata": {},
     "output_type": "execute_result"
    }
   ],
   "source": []
  },
  {
   "cell_type": "markdown",
   "metadata": {},
   "source": [
    "## 8. Changing Types\n",
    "\n",
    "---\n",
    "\n",
    "### A) Convert your data into a dictionary.\n",
    "\n",
    "Your `dict` should...\n",
    "* have `keys` of the new `pokedex` as the `PokedexNumber`\n",
    "* have `values` containing data for each pokemon in a dictionary form, just like our `pokedex` from before\n",
    "  * Keep in mind, the `keys` here are a little bit different than the original `pokedex`.\n",
    "  * Be careful of the header, you do not want to include that as a pokemon.\n",
    "* **WARNING:** Don't display your entire `pokedex` when turning this in! Viewing that many entries will clog up your notebook and make it difficult to read. If youd like to visualize your `pokedex`, index with a few of its `keys`.\n",
    "\n",
    "Your `new_pd_dict` should be organized like...\n",
    "\n",
    "```python\n",
    "{1.0: {'Attack': 49.0,\n",
    "  'Defense': 49.0,\n",
    "  'HP': 45.0,\n",
    "  'Name': 'Bulbasaur',\n",
    "  'PokedexNumber': 1.0,\n",
    "  'SpecialAttack': 65.0,\n",
    "  'SpecialDefense': 65.0,\n",
    "  'Speed': 45.0,\n",
    "  'Total': 318.0,\n",
    "  'Type': 'GrassPoison'},\n",
    " 2.0: {'Attack': 62.0,\n",
    "  'Defense': 63.0,\n",
    "  'HP': 60.0,\n",
    "  'Name': 'Ivysaur',\n",
    "```"
   ]
  },
  {
   "cell_type": "code",
   "execution_count": null,
   "metadata": {},
   "outputs": [],
   "source": [
    "# Your code here"
   ]
  },
  {
   "cell_type": "markdown",
   "metadata": {},
   "source": [
    "Your new pokedex is oriented by index, meaning that each entry is a row value (the `PokedexNumber` we set at the key would become the index for the row, all the keys for a given Pokemon would become the column headers, and their values would be the row values for that Pokemon). If you've set this up correctly (including naming your dict **`new_pd_dict`**), the following code should display the top 10 lines of your Pokedex formatted in a Pandas DataFrame."
   ]
  },
  {
   "cell_type": "code",
   "execution_count": null,
   "metadata": {},
   "outputs": [],
   "source": [
    "import pandas as pd\n",
    "pd.DataFrame(new_pd_dict).T.head(10)"
   ]
  },
  {
   "cell_type": "markdown",
   "metadata": {},
   "source": [
    "### (OPTIONAL) B) Orient your `new_pd_dict` by columns.\n",
    "\n",
    "Your goal in this exercise is to orient the pokedex dict by columns, meaning:\n",
    "\n",
    "* The keys of the dictionary are the column names\n",
    "* The values of the dictionary are a **column vector** (this can be a list or a tuple) of that feature.\n",
    "* **BONUS:** Do this with list and/or dictionary comprehensions only\n",
    "\n",
    "You may find it's easier to work from your `new_pd` list of lists rather than your `new_pd_dict`."
   ]
  },
  {
   "cell_type": "code",
   "execution_count": null,
   "metadata": {},
   "outputs": [],
   "source": [
    "# Your code here"
   ]
  },
  {
   "cell_type": "markdown",
   "metadata": {},
   "source": [
    "You can pass this data through to a pandas DataFrame as well, using the example code below:\n",
    "\n",
    "```pd.DataFrame(your_dict_name).head(10)```"
   ]
  },
  {
   "cell_type": "markdown",
   "metadata": {},
   "source": [
    "## (OPTIONAL) 9. Write a function to filter your pokedex!\n",
    "---\n",
    "\n",
    "Your goal in this exercise is to search your pokedex based on your own defined criteria! Build a function that...\n",
    "\n",
    "* Takes arguments of: \n",
    "  * a pokedex dict (can be either the row or column oriented dict, pick the one of your choice!)\n",
    "  * a `filter_options` dict (described below)\n",
    "* For parameters in your `filter_options` dict, your function should return:\n",
    "  * pokemon that are >= (greater than or equal to) the value you passed in your `filter_options` for that field for continuous values\n",
    "  * pokemon of that name or type for string values (equal)\n",
    "* Return a list of the individual pokemon dictionaries that meet your search criteia!\n",
    "\n",
    "Example:\n",
    "\n",
    "```python\n",
    "\n",
    "# Only filter based on parameters passed\n",
    "filter_options = {\n",
    "    'Attack':   25,\n",
    "    'Defense':  30,\n",
    "    'Type':     'Electric'\n",
    "}\n",
    "\n",
    "# Return records with attack >= 24, defense >= 30, and type == \"Electric\"\n",
    "# Also anticipate that other paramters can also be passed such as \"SpecialAttack\", \"Speed\", etc.\n",
    "filtered_pokedex(pokedex_data, filter_options)\n",
    "\n",
    "# Example output:\n",
    "[{'Attack': 30.0,\n",
    "  'Defense': 50.0,\n",
    "  'HP': 40.0,\n",
    "  'Name': 'Voltorb',\n",
    "  'SpecialAttack': 55.0,\n",
    "  'SpecialDefense': 55.0,\n",
    "  'Speed': 100.0,\n",
    "  'Total': 330.0,\n",
    "  'Type': 'Electric'},\n",
    "  {'Attack': 30.0,\n",
    "  'Defense': 33.0,\n",
    "  'HP': 32.0,\n",
    "  'Name': 'Pikachu',\n",
    "  'SpecialAttack': 55.0,\n",
    "  'SpecialDefense': 55.0,\n",
    "  'Speed': 100.0,\n",
    "  'Total': 330.0,\n",
    "  'Type': 'Electric'},\n",
    "  ... etc\n",
    "  ]\n",
    "\n",
    "```\n",
    "\n"
   ]
  },
  {
   "cell_type": "code",
   "execution_count": null,
   "metadata": {},
   "outputs": [],
   "source": [
    "# Your code here"
   ]
  }
 ],
 "metadata": {
  "anaconda-cloud": {},
  "kernelspec": {
   "display_name": "Python 3",
   "language": "python",
   "name": "python3"
  },
  "language_info": {
   "codemirror_mode": {
    "name": "ipython",
    "version": 3
   },
   "file_extension": ".py",
   "mimetype": "text/x-python",
   "name": "python",
   "nbconvert_exporter": "python",
   "pygments_lexer": "ipython3",
   "version": "3.6.8"
  }
 },
 "nbformat": 4,
 "nbformat_minor": 2
}
