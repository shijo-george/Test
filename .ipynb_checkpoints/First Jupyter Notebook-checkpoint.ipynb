{
 "cells": [
  {
   "cell_type": "markdown",
   "metadata": {},
   "source": [
    "# First Problem \n",
    "\n",
    "---\n",
    "## More Headers\n",
    "\n",
    "\n",
    "[Google](www.google.com)\n",
    "\n",
    "[Go to bottom](#bottom)\n",
    "\n",
    "**BOLD TEXT**\n",
    "\n",
    "\n",
    "<a name=\"bottom\"></a>"
   ]
  },
  {
   "cell_type": "code",
   "execution_count": 2,
   "metadata": {},
   "outputs": [
    {
     "name": "stdout",
     "output_type": "stream",
     "text": [
      "Shijo George\n",
      "#06-17, Block 47\n",
      "The Warren, Choa Chu Kang Loop, Singapore 683689\n",
      "\n",
      "what is the width of your room10\n",
      "What is the length of your room10\n",
      "The area of your room is 100.0\n",
      "\n",
      "what is the width of your field 1000\n",
      "What is the length of your field 1000\n",
      "The area of your field is 22.95684113865932\n",
      "\n",
      "How many bottles of more than 1 Ltr 10\n",
      "How many bottles of less than 1 Ltr 10\n",
      "The total refund will be $ 3.50\n"
     ]
    }
   ],
   "source": [
    "print('Shijo George')\n",
    "print('#06-17, Block 47')\n",
    "print('The Warren, Choa Chu Kang Loop, Singapore 683689\\n')\n",
    "\n",
    "width = float(input('what is the width of your room'))\n",
    "length = float(input('What is the length of your room'))\n",
    "print('The area of your room is ' + str(width * length))\n",
    "\n",
    "width = float(input('\\nwhat is the width of your field '))\n",
    "length = float(input('What is the length of your field '))\n",
    "print('The area of your field is ' + str((width * length)/43560))\n",
    "\n",
    "morethan1ltr = int(input('\\nHow many bottles of more than 1 Ltr '))\n",
    "lessthan1ltr = int(input('How many bottles of less than 1 Ltr '))\n",
    "print('The total refund will be $ {0:.2f}'.format((morethan1ltr * .25) + lessthan1ltr*.1))"
   ]
  },
  {
   "cell_type": "markdown",
   "metadata": {},
   "source": [
    "\n",
    "# Day 2\n",
    "\n",
    "## Exercise 21: Admission Price\n",
    "\n",
    "A particular zoo determines the price of admission based on the age of the guest. Guests 2 years of age and less are admitted without charge. Children between 3 and 12 years of age cost $14.00. Seniors aged 65 and over costs $18.00. Admission for all other guests is $23.00.\n",
    "\n",
    "Create a program that begins by reading the ages of all of the guests in a group from the user, with one age entered on each line. The user will enter a blank line to indicate that there are no more guests in the group. Then your program should display the admission cost for the group with an appropriate message. The cost should be displaed using two decimal places. "
   ]
  },
  {
   "cell_type": "code",
   "execution_count": 19,
   "metadata": {},
   "outputs": [
    {
     "name": "stdout",
     "output_type": "stream",
     "text": [
      "What is the age of your guest # 1 : 2\n",
      "What is the age of your guest # 2 : 4\n",
      "What is the age of your guest # 3 : 16\n",
      "What is the age of your guest # 4 : 33\n",
      "What is the age of your guest # 5 : 77\n",
      "What is the age of your guest # 6 : \n",
      "The total ticket cost is $92.00\n"
     ]
    }
   ],
   "source": [
    "ticketprice = 0\n",
    "count = 1\n",
    "\n",
    "line = input('What is the age of your guest # ' + str(count) +' : ')\n",
    "\n",
    "while line != '':\n",
    "    age = int(line)\n",
    "    \n",
    "    if age < 2 :\n",
    "        ticketprice = ticketprice\n",
    "    elif age < 13:\n",
    "        ticketprice = ticketprice + 14\n",
    "    elif age > 65: \n",
    "        ticketprice = ticketprice + 18\n",
    "    else:\n",
    "        ticketprice = ticketprice + 23\n",
    "\n",
    "\n",
    "    count = count + 1    \n",
    "    line = input('What is the age of your guest # ' + str(count)  + ' : ')\n",
    "\n",
    "print(\"The total ticket cost is $%.2f\" %ticketprice)"
   ]
  },
  {
   "cell_type": "code",
   "execution_count": 20,
   "metadata": {
    "scrolled": true
   },
   "outputs": [
    {
     "name": "stdout",
     "output_type": "stream",
     "text": [
      "0 Hello\n",
      "1 Hello\n",
      "2 Hello\n",
      "3 Hello\n",
      "4 Hello\n",
      "5 Hello\n",
      "6 Hello\n",
      "7 Hello\n",
      "8 Hello\n",
      "9 Hello\n",
      "10 Hello\n",
      "11 Hello\n",
      "12 Hello\n",
      "13 Hello\n",
      "14 Hello\n",
      "15 Hello\n",
      "16 Hello\n",
      "17 Hello\n",
      "18 Hello\n",
      "19 Hello\n",
      "20 Hello\n",
      "21 Hello\n",
      "22 Hello\n",
      "23 Hello\n",
      "24 Hello\n",
      "25 Hello\n",
      "26 Hello\n",
      "27 Hello\n",
      "28 Hello\n",
      "29 Hello\n",
      "30 Hello\n",
      "31 Hello\n",
      "32 Hello\n",
      "33 Hello\n",
      "34 Hello\n",
      "35 Hello\n",
      "36 Hello\n",
      "37 Hello\n",
      "38 Hello\n",
      "39 Hello\n",
      "40 Hello\n",
      "41 Hello\n",
      "42 Hello\n",
      "43 Hello\n",
      "44 Hello\n",
      "45 Hello\n",
      "46 Hello\n",
      "47 Hello\n",
      "48 Hello\n",
      "49 Hello\n",
      "50 Hello\n",
      "51 Hello\n",
      "52 Hello\n",
      "53 Hello\n",
      "54 Hello\n",
      "55 Hello\n",
      "56 Hello\n",
      "57 Hello\n",
      "58 Hello\n",
      "59 Hello\n",
      "60 Hello\n",
      "61 Hello\n",
      "62 Hello\n",
      "63 Hello\n",
      "64 Hello\n",
      "65 Hello\n",
      "66 Hello\n",
      "67 Hello\n",
      "68 Hello\n",
      "69 Hello\n",
      "70 Hello\n",
      "71 Hello\n",
      "72 Hello\n",
      "73 Hello\n",
      "74 Hello\n",
      "75 Hello\n",
      "76 Hello\n",
      "77 Hello\n",
      "78 Hello\n",
      "79 Hello\n",
      "80 Hello\n",
      "81 Hello\n",
      "82 Hello\n",
      "83 Hello\n",
      "84 Hello\n",
      "85 Hello\n",
      "86 Hello\n",
      "87 Hello\n",
      "88 Hello\n",
      "89 Hello\n",
      "90 Hello\n",
      "91 Hello\n",
      "92 Hello\n",
      "93 Hello\n",
      "94 Hello\n",
      "95 Hello\n",
      "96 Hello\n",
      "97 Hello\n",
      "98 Hello\n",
      "99 Hello\n"
     ]
    }
   ],
   "source": [
    "for number in range(100):\n",
    "    print(number,'Hello')"
   ]
  },
  {
   "cell_type": "markdown",
   "metadata": {},
   "source": [
    "# Day 3\n",
    "\n",
    "---\n",
    "\n",
    "## Exercise 24: Longest word\n",
    "\n",
    "write a function find_longest_word() that takes a list of words and returns the length of the longest one."
   ]
  },
  {
   "cell_type": "code",
   "execution_count": 11,
   "metadata": {},
   "outputs": [
    {
     "name": "stdout",
     "output_type": "stream",
     "text": [
      "Enter Line# 1 : sfdasdfsadf\n",
      "Enter Line# 2 : sadfasdfsa\n",
      "Enter Line# 3 : asdfasd\n",
      "Enter Line# 4 : \n",
      "Length of longest word is: 11\n"
     ]
    }
   ],
   "source": [
    "\n",
    "def find_longest_word(str_list):\n",
    "    longest_word_length = 0\n",
    "    \n",
    "    for str_line in str_list:\n",
    "        if longest_word_length < len(str_line):\n",
    "            longest_word_length = len(str_line)\n",
    "    \n",
    "    return longest_word_length\n",
    "\n",
    "count = 1\n",
    "line = input('Enter Line# ' + str(count) +' : ')\n",
    "\n",
    "str_list = []\n",
    "\n",
    "while line != '':\n",
    "    str_list.append(line)\n",
    "    \n",
    "    count = count + 1    \n",
    "    line = input('Enter Line# ' + str(count)  + ' : ')\n",
    "    \n",
    "print(\"Length of longest word is: \" + str(find_longest_word(str_list)))"
   ]
  },
  {
   "cell_type": "markdown",
   "metadata": {},
   "source": [
    "## Exercise 25: Lengths of the corresponding words\n",
    "\n",
    "Write a program that maps a list of words into a list of list of integers representing the lengths of corresponding words. Write in two different ways:\n",
    "1. using a for - loop\n",
    "2. using list comprehensions"
   ]
  },
  {
   "cell_type": "code",
   "execution_count": 13,
   "metadata": {},
   "outputs": [
    {
     "name": "stdout",
     "output_type": "stream",
     "text": [
      "Enter Line# 1 : sdfasdf\n",
      "Enter Line# 2 : adsfasdf\n",
      "Enter Line# 3 : asdfasd\n",
      "Enter Line# 4 : sdf\n",
      "Enter Line# 5 : a\n",
      "Enter Line# 6 : aa\n",
      "Enter Line# 7 : aaa\n",
      "Enter Line# 8 : \n"
     ]
    },
    {
     "data": {
      "text/plain": [
       "[7, 8, 7, 3, 1, 2, 3]"
      ]
     },
     "execution_count": 13,
     "metadata": {},
     "output_type": "execute_result"
    }
   ],
   "source": [
    "# Variable initializations\n",
    "count = 1\n",
    "str_list = []\n",
    "strlen_list = []\n",
    "\n",
    "# List of lines being input by the users\n",
    "line = input('Enter Line# ' + str(count) +' : ')\n",
    "\n",
    "while line != '':\n",
    "    str_list.append(line)\n",
    "    \n",
    "    count = count + 1    \n",
    "    line = input('Enter Line# ' + str(count)  + ' : ')\n",
    "\n",
    "# Map the str_list into strlen_list representing the lengths of corresponding words using a for loop. \n",
    "for str_line in str_list:\n",
    "    strlen_list.append(len(str_line))\n",
    "\n",
    "# Output strlen_list\n",
    "strlen_list"
   ]
  },
  {
   "cell_type": "code",
   "execution_count": 15,
   "metadata": {},
   "outputs": [
    {
     "name": "stdout",
     "output_type": "stream",
     "text": [
      "Enter Line# 1 : asdfasdf\n",
      "Enter Line# 2 : asdf\n",
      "Enter Line# 3 : as\n",
      "Enter Line# 4 : s\n",
      "Enter Line# 5 : aa\n",
      "Enter Line# 6 : aaa\n",
      "Enter Line# 7 : aaaa\n",
      "Enter Line# 8 : \n"
     ]
    },
    {
     "data": {
      "text/plain": [
       "[8, 4, 2, 1, 2, 3, 4]"
      ]
     },
     "execution_count": 15,
     "metadata": {},
     "output_type": "execute_result"
    }
   ],
   "source": [
    "# Variable initializations\n",
    "count = 1\n",
    "str_list = []\n",
    "strlen_list = []\n",
    "\n",
    "# List of lines being input by the users\n",
    "line = input('Enter Line# ' + str(count) +' : ')\n",
    "\n",
    "while line != '':\n",
    "    str_list.append(line)\n",
    "    \n",
    "    count = count + 1    \n",
    "    line = input('Enter Line# ' + str(count)  + ' : ')\n",
    "\n",
    "# Map the str_list into strlen_list representing the lengths of corresponding words using list comprehension\n",
    "strlen_list = [len(str_line) for str_line in str_list]\n",
    "\n",
    "# Output strlen_list\n",
    "strlen_list"
   ]
  },
  {
   "cell_type": "markdown",
   "metadata": {},
   "source": [
    "# Day 3\n",
    "---\n",
    "\n",
    "## Exercise 6: Sum of the first n positive Integers\n",
    "\n"
   ]
  },
  {
   "cell_type": "code",
   "execution_count": 19,
   "metadata": {},
   "outputs": [
    {
     "name": "stdout",
     "output_type": "stream",
     "text": [
      "Enter value of n: 1\n",
      "The sume of the first 1 is: 1.0\n"
     ]
    }
   ],
   "source": [
    "n = int(input('Enter value of n: '))\n",
    "\n",
    "sum = n * (n + 1) / 2\n",
    "\n",
    "print('The sume of the first ' + str(n) + \" is: \" + str(sum))"
   ]
  }
 ],
 "metadata": {
  "kernelspec": {
   "display_name": "Python 3",
   "language": "python",
   "name": "python3"
  },
  "language_info": {
   "codemirror_mode": {
    "name": "ipython",
    "version": 3
   },
   "file_extension": ".py",
   "mimetype": "text/x-python",
   "name": "python",
   "nbconvert_exporter": "python",
   "pygments_lexer": "ipython3",
   "version": "3.6.8"
  }
 },
 "nbformat": 4,
 "nbformat_minor": 2
}
